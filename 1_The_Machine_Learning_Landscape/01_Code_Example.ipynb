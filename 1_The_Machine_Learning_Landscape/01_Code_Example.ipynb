{
 "cells": [
  {
   "cell_type": "code",
   "execution_count": 2,
   "metadata": {
    "collapsed": true
   },
   "outputs": [],
   "source": [
    "# to plot pretty figures directly within Jupyter\n",
    "import pandas as pd\n",
    "%matplotlib inline\n",
    "import matplotlib as mpl\n",
    "mpl.rc('axes',labelsize = 14)\n",
    "mpl.rc('xtick',labelsize = 12)\n",
    "mpl.rc('ytick',labelsize = 12)"
   ]
  },
  {
   "cell_type": "code",
   "execution_count": 3,
   "outputs": [
    {
     "name": "stdout",
     "output_type": "stream",
     "text": [
      "Downloading oecd_bli_2015.csv\n",
      "Downloading gdp_per_capita.csv\n"
     ]
    }
   ],
   "source": [
    "import os\n",
    "datapath = os.path.join(\"datasets\",\"lifesat\",\"\")\n",
    "\n",
    "# Download the data\n",
    "import urllib\n",
    "DOWNLOAD_ROOT = \"https://raw.githubusercontent.com/ageron/handson-ml2/master/\"\n",
    "os.makedirs(datapath,exist_ok=True)\n",
    "for filename in (\"oecd_bli_2015.csv\", \"gdp_per_capita.csv\"):\n",
    "    print(\"Downloading\",filename)\n",
    "    url = DOWNLOAD_ROOT + \"datasets/lifesat/\" + filename\n",
    "    urllib.request.urlretrieve(url, datapath + filename)"
   ],
   "metadata": {
    "collapsed": false,
    "pycharm": {
     "name": "#%%\n"
    }
   }
  },
  {
   "cell_type": "code",
   "execution_count": 19,
   "outputs": [],
   "source": [
    "# merges the OECD's life satisfaction data and the IMF's GDP per capita data.\n",
    "def prepare_country_stats(oecd_bli,gdp_per_capita):\n",
    "    oecd_bli = oecd_bli[oecd_bli[\"INEQUALITY\"]==\"TOT\"]\n",
    "    # pivot用来整合数据\n",
    "    oecd_bli = oecd_bli.pivot(index=\"Country\", columns=\"Indicator\", values=\"Value\")\n",
    "    gdp_per_capita.rename(columns={\"2015\": \"GDP per capita\"}, inplace=True)\n",
    "    gdp_per_capita.set_index(\"Country\", inplace=True)\n",
    "    # 合并两个dataframe\n",
    "    full_country_stats = pd.merge(left=oecd_bli, right=gdp_per_capita,\n",
    "                                  left_index=True, right_index=True)\n",
    "    full_country_stats.sort_values(by=\"GDP per capita\", inplace=True)\n",
    "    remove_indices = [0, 1, 6, 8, 33, 34, 35]\n",
    "    keep_indices = list(set(range(36)) - set(remove_indices))\n",
    "    return full_country_stats[[\"GDP per capita\", 'Life satisfaction']].iloc[keep_indices]"
   ],
   "metadata": {
    "collapsed": false,
    "pycharm": {
     "name": "#%%\n"
    }
   }
  },
  {
   "cell_type": "code",
   "execution_count": 20,
   "outputs": [
    {
     "data": {
      "text/plain": "Indicator       Dwellings without basic facilities\nCountry                                           \nAustralia                                      1.1\nAustria                                        1.0\nBelgium                                        2.0\nCanada                                         0.2\nCzech Republic                                 0.9",
      "text/html": "<div>\n<style scoped>\n    .dataframe tbody tr th:only-of-type {\n        vertical-align: middle;\n    }\n\n    .dataframe tbody tr th {\n        vertical-align: top;\n    }\n\n    .dataframe thead th {\n        text-align: right;\n    }\n</style>\n<table border=\"1\" class=\"dataframe\">\n  <thead>\n    <tr style=\"text-align: right;\">\n      <th>Indicator</th>\n      <th>Dwellings without basic facilities</th>\n    </tr>\n    <tr>\n      <th>Country</th>\n      <th></th>\n    </tr>\n  </thead>\n  <tbody>\n    <tr>\n      <th>Australia</th>\n      <td>1.1</td>\n    </tr>\n    <tr>\n      <th>Austria</th>\n      <td>1.0</td>\n    </tr>\n    <tr>\n      <th>Belgium</th>\n      <td>2.0</td>\n    </tr>\n    <tr>\n      <th>Canada</th>\n      <td>0.2</td>\n    </tr>\n    <tr>\n      <th>Czech Republic</th>\n      <td>0.9</td>\n    </tr>\n  </tbody>\n</table>\n</div>"
     },
     "execution_count": 20,
     "metadata": {},
     "output_type": "execute_result"
    }
   ],
   "source": [
    "import pandas as pd\n",
    "oecd_bli = pd.read_csv('./datasets/lifesat/oecd_bli_2015.csv').head()\n",
    "# oecd_bli[oecd_bli[\"INEQUALITY\"]==\"TOT\"]\n",
    "oecd_bli = oecd_bli[oecd_bli[\"INEQUALITY\"]==\"TOT\"]\n",
    "oecd_bli = oecd_bli.pivot(index=\"Country\", columns=\"Indicator\", values=\"Value\")\n",
    "oecd_bli"
   ],
   "metadata": {
    "collapsed": false,
    "pycharm": {
     "name": "#%%\n"
    }
   }
  },
  {
   "cell_type": "code",
   "execution_count": 43,
   "outputs": [
    {
     "data": {
      "text/plain": "<Figure size 432x288 with 1 Axes>",
      "image/png": "[encoded data removed]"
     },
     "metadata": {
      "needs_background": "light"
     },
     "output_type": "display_data"
    },
    {
     "name": "stdout",
     "output_type": "stream",
     "text": [
      "[[5.96242338]\n",
      " [4.96724621]]\n"
     ]
    }
   ],
   "source": [
    "# Code example\n",
    "import matplotlib.pyplot as plt\n",
    "import numpy as np\n",
    "import pandas as pd\n",
    "import sklearn.linear_model\n",
    "\n",
    "# Load the data\n",
    "oecd_bli = pd.read_csv(datapath + \"oecd_bli_2015.csv\", thousands=',')\n",
    "gdp_per_capita = pd.read_csv(datapath + \"gdp_per_capita.csv\",thousands=',',delimiter='\\t',\n",
    "                             encoding='latin1', na_values=\"n/a\")\n",
    "\n",
    "# Prepare the data\n",
    "country_stats = prepare_country_stats(oecd_bli, gdp_per_capita)\n",
    "X = np.c_[country_stats[\"GDP per capita\"]]\n",
    "y = np.c_[country_stats[\"Life satisfaction\"]]\n",
    "\n",
    "# visualize the data\n",
    "country_stats.plot(kind='scatter', x=\"GDP per capita\", y='Life satisfaction')\n",
    "plt.show()\n",
    "\n",
    "# Select a linear model\n",
    "model = sklearn.linear_model.LinearRegression()\n",
    "\n",
    "# Train the model\n",
    "model.fit(X, y)\n",
    "\n",
    "# Make a prediction for Cyprus\n",
    "X_new = [[22587],[2325]]  # Cyprus' GDP per capita\n",
    "print(model.predict(X_new)) #"
   ],
   "metadata": {
    "collapsed": false,
    "pycharm": {
     "name": "#%%\n"
    }
   }
  },
  {
   "cell_type": "code",
   "execution_count": 44,
   "outputs": [],
   "source": [
    "# Where to save the figures\n",
    "PROJECT_ROOT_DIR = \".\"\n",
    "CHAPTER_ID = \"fundamentals\"\n",
    "IMAGES_PATH = os.path.join(PROJECT_ROOT_DIR, \"images\", CHAPTER_ID)\n",
    "os.makedirs(IMAGES_PATH, exist_ok=True)\n",
    "\n",
    "def save_fig(fig_id, tight_layout=True, fig_extension=\"png\", resolution=300):\n",
    "    path = os.path.join(IMAGES_PATH, fig_id + \".\" + fig_extension)\n",
    "    print(\"Saving figure\", fig_id)\n",
    "    if tight_layout:\n",
    "        plt.tight_layout()\n",
    "    plt.savefig(path, format=fig_extension, dpi=resolution)"
   ],
   "metadata": {
    "collapsed": false,
    "pycharm": {
     "name": "#%%\n"
    }
   }
  },
  {
   "cell_type": "code",
   "execution_count": 45,
   "outputs": [],
   "source": [
    "np.random.seed(42)"
   ],
   "metadata": {
    "collapsed": false,
    "pycharm": {
     "name": "#%%\n"
    }
   }
  },
  {
   "cell_type": "code",
   "execution_count": 48,
   "outputs": [
    {
     "data": {
      "text/plain": "Indicator  Air pollution  Assault rate  Consultation on rule-making  \\\nCountry                                                               \nAustralia           13.0           2.1                         10.5   \nAustria             27.0           3.4                          7.1   \n\nIndicator  Dwellings without basic facilities  Educational attainment  \\\nCountry                                                                 \nAustralia                                 1.1                    76.0   \nAustria                                   1.0                    83.0   \n\nIndicator  Employees working very long hours  Employment rate  Homicide rate  \\\nCountry                                                                        \nAustralia                              14.02             72.0            0.8   \nAustria                                 7.61             72.0            0.4   \n\nIndicator  Household net adjusted disposable income  \\\nCountry                                               \nAustralia                                   31588.0   \nAustria                                     31173.0   \n\nIndicator  Household net financial wealth  ...  Long-term unemployment rate  \\\nCountry                                    ...                                \nAustralia                         47657.0  ...                         1.08   \nAustria                           49887.0  ...                         1.19   \n\nIndicator  Personal earnings  Quality of support network  Rooms per person  \\\nCountry                                                                      \nAustralia            50449.0                        92.0               2.3   \nAustria              45199.0                        89.0               1.6   \n\nIndicator  Self-reported health  Student skills  \\\nCountry                                           \nAustralia                  85.0           512.0   \nAustria                    69.0           500.0   \n\nIndicator  Time devoted to leisure and personal care  Voter turnout  \\\nCountry                                                               \nAustralia                                      14.41           93.0   \nAustria                                        14.46           75.0   \n\nIndicator  Water quality  Years in education  \nCountry                                       \nAustralia           91.0                19.4  \nAustria             94.0                17.0  \n\n[2 rows x 24 columns]",
      "text/html": "<div>\n<style scoped>\n    .dataframe tbody tr th:only-of-type {\n        vertical-align: middle;\n    }\n\n    .dataframe tbody tr th {\n        vertical-align: top;\n    }\n\n    .dataframe thead th {\n        text-align: right;\n    }\n</style>\n<table border=\"1\" class=\"dataframe\">\n  <thead>\n    <tr style=\"text-align: right;\">\n      <th>Indicator</th>\n      <th>Air pollution</th>\n      <th>Assault rate</th>\n      <th>Consultation on rule-making</th>\n      <th>Dwellings without basic facilities</th>\n      <th>Educational attainment</th>\n      <th>Employees working very long hours</th>\n      <th>Employment rate</th>\n      <th>Homicide rate</th>\n      <th>Household net adjusted disposable income</th>\n      <th>Household net financial wealth</th>\n      <th>...</th>\n      <th>Long-term unemployment rate</th>\n      <th>Personal earnings</th>\n      <th>Quality of support network</th>\n      <th>Rooms per person</th>\n      <th>Self-reported health</th>\n      <th>Student skills</th>\n      <th>Time devoted to leisure and personal care</th>\n      <th>Voter turnout</th>\n      <th>Water quality</th>\n      <th>Years in education</th>\n    </tr>\n    <tr>\n      <th>Country</th>\n      <th></th>\n      <th></th>\n      <th></th>\n      <th></th>\n      <th></th>\n      <th></th>\n      <th></th>\n      <th></th>\n      <th></th>\n      <th></th>\n      <th></th>\n      <th></th>\n      <th></th>\n      <th></th>\n      <th></th>\n      <th></th>\n      <th></th>\n      <th></th>\n      <th></th>\n      <th></th>\n      <th></th>\n    </tr>\n  </thead>\n  <tbody>\n    <tr>\n      <th>Australia</th>\n      <td>13.0</td>\n      <td>2.1</td>\n      <td>10.5</td>\n      <td>1.1</td>\n      <td>76.0</td>\n      <td>14.02</td>\n      <td>72.0</td>\n      <td>0.8</td>\n      <td>31588.0</td>\n      <td>47657.0</td>\n      <td>...</td>\n      <td>1.08</td>\n      <td>50449.0</td>\n      <td>92.0</td>\n      <td>2.3</td>\n      <td>85.0</td>\n      <td>512.0</td>\n      <td>14.41</td>\n      <td>93.0</td>\n      <td>91.0</td>\n      <td>19.4</td>\n    </tr>\n    <tr>\n      <th>Austria</th>\n      <td>27.0</td>\n      <td>3.4</td>\n      <td>7.1</td>\n      <td>1.0</td>\n      <td>83.0</td>\n      <td>7.61</td>\n      <td>72.0</td>\n      <td>0.4</td>\n      <td>31173.0</td>\n      <td>49887.0</td>\n      <td>...</td>\n      <td>1.19</td>\n      <td>45199.0</td>\n      <td>89.0</td>\n      <td>1.6</td>\n      <td>69.0</td>\n      <td>500.0</td>\n      <td>14.46</td>\n      <td>75.0</td>\n      <td>94.0</td>\n      <td>17.0</td>\n    </tr>\n  </tbody>\n</table>\n<p>2 rows × 24 columns</p>\n</div>"
     },
     "execution_count": 48,
     "metadata": {},
     "output_type": "execute_result"
    }
   ],
   "source": [
    "datapath = os.path.join(\"datasets\",\"lifesat\",\"\")\n",
    "\n",
    "oecd_bli = pd.read_csv(datapath + \"oecd_bli_2015.csv\", thousands=',')\n",
    "oecd_bli = oecd_bli[oecd_bli[\"INEQUALITY\"]==\"TOT\"]\n",
    "oecd_bli = oecd_bli.pivot(index=\"Country\", columns=\"Indicator\", values=\"Value\")\n",
    "oecd_bli.head(2)"
   ],
   "metadata": {
    "collapsed": false,
    "pycharm": {
     "name": "#%%\n"
    }
   }
  },
  {
   "cell_type": "code",
   "execution_count": 49,
   "outputs": [
    {
     "data": {
      "text/plain": "Country\nAustralia    7.3\nAustria      6.9\nBelgium      6.9\nBrazil       7.0\nCanada       7.3\nName: Life satisfaction, dtype: float64"
     },
     "execution_count": 49,
     "metadata": {},
     "output_type": "execute_result"
    }
   ],
   "source": [
    "oecd_bli[\"Life satisfaction\"].head()"
   ],
   "metadata": {
    "collapsed": false,
    "pycharm": {
     "name": "#%%\n"
    }
   }
  },
  {
   "cell_type": "code",
   "execution_count": 50,
   "outputs": [
    {
     "data": {
      "text/plain": "                                            Subject Descriptor         Units  \\\nCountry                                                                        \nAfghanistan  Gross domestic product per capita, current prices  U.S. dollars   \nAlbania      Gross domestic product per capita, current prices  U.S. dollars   \n\n             Scale                      Country/Series-specific Notes  \\\nCountry                                                                 \nAfghanistan  Units  See notes for:  Gross domestic product, curren...   \nAlbania      Units  See notes for:  Gross domestic product, curren...   \n\n             GDP per capita  Estimates Start After  \nCountry                                             \nAfghanistan         599.994                 2013.0  \nAlbania            3995.383                 2010.0  ",
      "text/html": "<div>\n<style scoped>\n    .dataframe tbody tr th:only-of-type {\n        vertical-align: middle;\n    }\n\n    .dataframe tbody tr th {\n        vertical-align: top;\n    }\n\n    .dataframe thead th {\n        text-align: right;\n    }\n</style>\n<table border=\"1\" class=\"dataframe\">\n  <thead>\n    <tr style=\"text-align: right;\">\n      <th></th>\n      <th>Subject Descriptor</th>\n      <th>Units</th>\n      <th>Scale</th>\n      <th>Country/Series-specific Notes</th>\n      <th>GDP per capita</th>\n      <th>Estimates Start After</th>\n    </tr>\n    <tr>\n      <th>Country</th>\n      <th></th>\n      <th></th>\n      <th></th>\n      <th></th>\n      <th></th>\n      <th></th>\n    </tr>\n  </thead>\n  <tbody>\n    <tr>\n      <th>Afghanistan</th>\n      <td>Gross domestic product per capita, current prices</td>\n      <td>U.S. dollars</td>\n      <td>Units</td>\n      <td>See notes for:  Gross domestic product, curren...</td>\n      <td>599.994</td>\n      <td>2013.0</td>\n    </tr>\n    <tr>\n      <th>Albania</th>\n      <td>Gross domestic product per capita, current prices</td>\n      <td>U.S. dollars</td>\n      <td>Units</td>\n      <td>See notes for:  Gross domestic product, curren...</td>\n      <td>3995.383</td>\n      <td>2010.0</td>\n    </tr>\n  </tbody>\n</table>\n</div>"
     },
     "execution_count": 50,
     "metadata": {},
     "output_type": "execute_result"
    }
   ],
   "source": [
    "gdp_per_capita = pd.read_csv(datapath+\"gdp_per_capita.csv\", thousands=',', delimiter='\\t',\n",
    "                             encoding='latin1', na_values=\"n/a\")\n",
    "gdp_per_capita.rename(columns={\"2015\": \"GDP per capita\"}, inplace=True)\n",
    "gdp_per_capita.set_index(\"Country\", inplace=True)\n",
    "gdp_per_capita.head(2)\n"
   ],
   "metadata": {
    "collapsed": false,
    "pycharm": {
     "name": "#%%\n"
    }
   }
  },
  {
   "cell_type": "code",
   "execution_count": 52,
   "outputs": [
    {
     "data": {
      "text/plain": "         Air pollution  Assault rate  Consultation on rule-making  \\\nCountry                                                             \nBrazil            18.0           7.9                          4.0   \nMexico            30.0          12.8                          9.0   \nRussia            15.0           3.8                          2.5   \nTurkey            35.0           5.0                          5.5   \nHungary           15.0           3.6                          7.9   \n\n         Dwellings without basic facilities  Educational attainment  \\\nCountry                                                               \nBrazil                                  6.7                    45.0   \nMexico                                  4.2                    37.0   \nRussia                                 15.1                    94.0   \nTurkey                                 12.7                    34.0   \nHungary                                 4.8                    82.0   \n\n         Employees working very long hours  Employment rate  Homicide rate  \\\nCountry                                                                      \nBrazil                               10.41             67.0           25.5   \nMexico                               28.83             61.0           23.4   \nRussia                                0.16             69.0           12.8   \nTurkey                               40.86             50.0            1.2   \nHungary                               3.19             58.0            1.3   \n\n         Household net adjusted disposable income  \\\nCountry                                             \nBrazil                                    11664.0   \nMexico                                    13085.0   \nRussia                                    19292.0   \nTurkey                                    14095.0   \nHungary                                   15442.0   \n\n         Household net financial wealth  ...  \\\nCountry                                  ...   \nBrazil                           6844.0  ...   \nMexico                           9056.0  ...   \nRussia                           3412.0  ...   \nTurkey                           3251.0  ...   \nHungary                         13277.0  ...   \n\n         Time devoted to leisure and personal care  Voter turnout  \\\nCountry                                                             \nBrazil                                       14.97           79.0   \nMexico                                       13.89           63.0   \nRussia                                       14.97           65.0   \nTurkey                                       13.42           88.0   \nHungary                                      15.04           62.0   \n\n         Water quality  Years in education  \\\nCountry                                      \nBrazil            72.0                16.3   \nMexico            67.0                14.4   \nRussia            56.0                16.0   \nTurkey            62.0                16.4   \nHungary           77.0                17.6   \n\n                                        Subject Descriptor         Units  \\\nCountry                                                                    \nBrazil   Gross domestic product per capita, current prices  U.S. dollars   \nMexico   Gross domestic product per capita, current prices  U.S. dollars   \nRussia   Gross domestic product per capita, current prices  U.S. dollars   \nTurkey   Gross domestic product per capita, current prices  U.S. dollars   \nHungary  Gross domestic product per capita, current prices  U.S. dollars   \n\n         Scale                      Country/Series-specific Notes  \\\nCountry                                                             \nBrazil   Units  See notes for:  Gross domestic product, curren...   \nMexico   Units  See notes for:  Gross domestic product, curren...   \nRussia   Units  See notes for:  Gross domestic product, curren...   \nTurkey   Units  See notes for:  Gross domestic product, curren...   \nHungary  Units  See notes for:  Gross domestic product, curren...   \n\n         GDP per capita  Estimates Start After  \nCountry                                         \nBrazil         8669.998                 2014.0  \nMexico         9009.280                 2015.0  \nRussia         9054.914                 2015.0  \nTurkey         9437.372                 2013.0  \nHungary       12239.894                 2015.0  \n\n[5 rows x 30 columns]",
      "text/html": "<div>\n<style scoped>\n    .dataframe tbody tr th:only-of-type {\n        vertical-align: middle;\n    }\n\n    .dataframe tbody tr th {\n        vertical-align: top;\n    }\n\n    .dataframe thead th {\n        text-align: right;\n    }\n</style>\n<table border=\"1\" class=\"dataframe\">\n  <thead>\n    <tr style=\"text-align: right;\">\n      <th></th>\n      <th>Air pollution</th>\n      <th>Assault rate</th>\n      <th>Consultation on rule-making</th>\n      <th>Dwellings without basic facilities</th>\n      <th>Educational attainment</th>\n      <th>Employees working very long hours</th>\n      <th>Employment rate</th>\n      <th>Homicide rate</th>\n      <th>Household net adjusted disposable income</th>\n      <th>Household net financial wealth</th>\n      <th>...</th>\n      <th>Time devoted to leisure and personal care</th>\n      <th>Voter turnout</th>\n      <th>Water quality</th>\n      <th>Years in education</th>\n      <th>Subject Descriptor</th>\n      <th>Units</th>\n      <th>Scale</th>\n      <th>Country/Series-specific Notes</th>\n      <th>GDP per capita</th>\n      <th>Estimates Start After</th>\n    </tr>\n    <tr>\n      <th>Country</th>\n      <th></th>\n      <th></th>\n      <th></th>\n      <th></th>\n      <th></th>\n      <th></th>\n      <th></th>\n      <th></th>\n      <th></th>\n      <th></th>\n      <th></th>\n      <th></th>\n      <th></th>\n      <th></th>\n      <th></th>\n      <th></th>\n      <th></th>\n      <th></th>\n      <th></th>\n      <th></th>\n      <th></th>\n    </tr>\n  </thead>\n  <tbody>\n    <tr>\n      <th>Brazil</th>\n      <td>18.0</td>\n      <td>7.9</td>\n      <td>4.0</td>\n      <td>6.7</td>\n      <td>45.0</td>\n      <td>10.41</td>\n      <td>67.0</td>\n      <td>25.5</td>\n      <td>11664.0</td>\n      <td>6844.0</td>\n      <td>...</td>\n      <td>14.97</td>\n      <td>79.0</td>\n      <td>72.0</td>\n      <td>16.3</td>\n      <td>Gross domestic product per capita, current prices</td>\n      <td>U.S. dollars</td>\n      <td>Units</td>\n      <td>See notes for:  Gross domestic product, curren...</td>\n      <td>8669.998</td>\n      <td>2014.0</td>\n    </tr>\n    <tr>\n      <th>Mexico</th>\n      <td>30.0</td>\n      <td>12.8</td>\n      <td>9.0</td>\n      <td>4.2</td>\n      <td>37.0</td>\n      <td>28.83</td>\n      <td>61.0</td>\n      <td>23.4</td>\n      <td>13085.0</td>\n      <td>9056.0</td>\n      <td>...</td>\n      <td>13.89</td>\n      <td>63.0</td>\n      <td>67.0</td>\n      <td>14.4</td>\n      <td>Gross domestic product per capita, current prices</td>\n      <td>U.S. dollars</td>\n      <td>Units</td>\n      <td>See notes for:  Gross domestic product, curren...</td>\n      <td>9009.280</td>\n      <td>2015.0</td>\n    </tr>\n    <tr>\n      <th>Russia</th>\n      <td>15.0</td>\n      <td>3.8</td>\n      <td>2.5</td>\n      <td>15.1</td>\n      <td>94.0</td>\n      <td>0.16</td>\n      <td>69.0</td>\n      <td>12.8</td>\n      <td>19292.0</td>\n      <td>3412.0</td>\n      <td>...</td>\n      <td>14.97</td>\n      <td>65.0</td>\n      <td>56.0</td>\n      <td>16.0</td>\n      <td>Gross domestic product per capita, current prices</td>\n      <td>U.S. dollars</td>\n      <td>Units</td>\n      <td>See notes for:  Gross domestic product, curren...</td>\n      <td>9054.914</td>\n      <td>2015.0</td>\n    </tr>\n    <tr>\n      <th>Turkey</th>\n      <td>35.0</td>\n      <td>5.0</td>\n      <td>5.5</td>\n      <td>12.7</td>\n      <td>34.0</td>\n      <td>40.86</td>\n      <td>50.0</td>\n      <td>1.2</td>\n      <td>14095.0</td>\n      <td>3251.0</td>\n      <td>...</td>\n      <td>13.42</td>\n      <td>88.0</td>\n      <td>62.0</td>\n      <td>16.4</td>\n      <td>Gross domestic product per capita, current prices</td>\n      <td>U.S. dollars</td>\n      <td>Units</td>\n      <td>See notes for:  Gross domestic product, curren...</td>\n      <td>9437.372</td>\n      <td>2013.0</td>\n    </tr>\n    <tr>\n      <th>Hungary</th>\n      <td>15.0</td>\n      <td>3.6</td>\n      <td>7.9</td>\n      <td>4.8</td>\n      <td>82.0</td>\n      <td>3.19</td>\n      <td>58.0</td>\n      <td>1.3</td>\n      <td>15442.0</td>\n      <td>13277.0</td>\n      <td>...</td>\n      <td>15.04</td>\n      <td>62.0</td>\n      <td>77.0</td>\n      <td>17.6</td>\n      <td>Gross domestic product per capita, current prices</td>\n      <td>U.S. dollars</td>\n      <td>Units</td>\n      <td>See notes for:  Gross domestic product, curren...</td>\n      <td>12239.894</td>\n      <td>2015.0</td>\n    </tr>\n  </tbody>\n</table>\n<p>5 rows × 30 columns</p>\n</div>"
     },
     "execution_count": 52,
     "metadata": {},
     "output_type": "execute_result"
    }
   ],
   "source": [
    "full_country_stats = pd.merge(left=oecd_bli, right=gdp_per_capita, left_index=True, right_index=True)\n",
    "full_country_stats.sort_values(by=\"GDP per capita\", inplace=True)\n",
    "full_country_stats.head()"
   ],
   "metadata": {
    "collapsed": false,
    "pycharm": {
     "name": "#%%\n"
    }
   }
  },
  {
   "cell_type": "code",
   "execution_count": 53,
   "outputs": [
    {
     "data": {
      "text/plain": "GDP per capita       55805.204\nLife satisfaction        7.200\nName: United States, dtype: float64"
     },
     "execution_count": 53,
     "metadata": {},
     "output_type": "execute_result"
    }
   ],
   "source": [
    "full_country_stats[[\"GDP per capita\", 'Life satisfaction']].loc[\"United States\"]"
   ],
   "metadata": {
    "collapsed": false,
    "pycharm": {
     "name": "#%%\n"
    }
   }
  },
  {
   "cell_type": "code",
   "execution_count": 57,
   "outputs": [
    {
     "data": {
      "text/plain": "                GDP per capita  Life satisfaction\nCountry                                          \nBrazil                8669.998                7.0\nMexico                9009.280                6.7\nChile                13340.905                6.7\nCzech Republic       17256.918                6.5\nNorway               74822.106                7.4\nSwitzerland          80675.308                7.5\nLuxembourg          101994.093                6.9",
      "text/html": "<div>\n<style scoped>\n    .dataframe tbody tr th:only-of-type {\n        vertical-align: middle;\n    }\n\n    .dataframe tbody tr th {\n        vertical-align: top;\n    }\n\n    .dataframe thead th {\n        text-align: right;\n    }\n</style>\n<table border=\"1\" class=\"dataframe\">\n  <thead>\n    <tr style=\"text-align: right;\">\n      <th></th>\n      <th>GDP per capita</th>\n      <th>Life satisfaction</th>\n    </tr>\n    <tr>\n      <th>Country</th>\n      <th></th>\n      <th></th>\n    </tr>\n  </thead>\n  <tbody>\n    <tr>\n      <th>Brazil</th>\n      <td>8669.998</td>\n      <td>7.0</td>\n    </tr>\n    <tr>\n      <th>Mexico</th>\n      <td>9009.280</td>\n      <td>6.7</td>\n    </tr>\n    <tr>\n      <th>Chile</th>\n      <td>13340.905</td>\n      <td>6.7</td>\n    </tr>\n    <tr>\n      <th>Czech Republic</th>\n      <td>17256.918</td>\n      <td>6.5</td>\n    </tr>\n    <tr>\n      <th>Norway</th>\n      <td>74822.106</td>\n      <td>7.4</td>\n    </tr>\n    <tr>\n      <th>Switzerland</th>\n      <td>80675.308</td>\n      <td>7.5</td>\n    </tr>\n    <tr>\n      <th>Luxembourg</th>\n      <td>101994.093</td>\n      <td>6.9</td>\n    </tr>\n  </tbody>\n</table>\n</div>"
     },
     "execution_count": 57,
     "metadata": {},
     "output_type": "execute_result"
    }
   ],
   "source": [
    "remove_indices = [0, 1, 6, 8, 33, 34, 35]\n",
    "keep_indices = list(set(range(36)) - set(remove_indices))\n",
    "\n",
    "sample_data = full_country_stats[[\"GDP per capita\", 'Life satisfaction']].iloc[keep_indices]\n",
    "missing_data = full_country_stats[[\"GDP per capita\", 'Life satisfaction']].iloc[remove_indices]\n",
    "\n",
    "missing_data"
   ],
   "metadata": {
    "collapsed": false,
    "pycharm": {
     "name": "#%%\n"
    }
   }
  },
  {
   "cell_type": "code",
   "execution_count": 62,
   "outputs": [
    {
     "data": {
      "text/plain": "<AxesSubplot:xlabel='GDP per capita', ylabel='Life satisfaction'>"
     },
     "execution_count": 62,
     "metadata": {},
     "output_type": "execute_result"
    },
    {
     "data": {
      "text/plain": "<Figure size 360x216 with 1 Axes>",
      "image/png": "[encoded data removed]"
     },
     "metadata": {
      "needs_background": "light"
     },
     "output_type": "display_data"
    }
   ],
   "source": [
    "sample_data.plot(kind='scatter', x=\"GDP per capita\", y='Life satisfaction', figsize=(5,3))"
   ],
   "metadata": {
    "collapsed": false,
    "pycharm": {
     "name": "#%%\n"
    }
   }
  },
  {
   "cell_type": "code",
   "execution_count": 63,
   "outputs": [
    {
     "data": {
      "text/plain": "                 GDP per capita  Life satisfaction\nCountry                                           \nRussia                 9054.914                6.0\nTurkey                 9437.372                5.6\nHungary               12239.894                4.9\nPoland                12495.334                5.8\nSlovak Republic       15991.736                6.1",
      "text/html": "<div>\n<style scoped>\n    .dataframe tbody tr th:only-of-type {\n        vertical-align: middle;\n    }\n\n    .dataframe tbody tr th {\n        vertical-align: top;\n    }\n\n    .dataframe thead th {\n        text-align: right;\n    }\n</style>\n<table border=\"1\" class=\"dataframe\">\n  <thead>\n    <tr style=\"text-align: right;\">\n      <th></th>\n      <th>GDP per capita</th>\n      <th>Life satisfaction</th>\n    </tr>\n    <tr>\n      <th>Country</th>\n      <th></th>\n      <th></th>\n    </tr>\n  </thead>\n  <tbody>\n    <tr>\n      <th>Russia</th>\n      <td>9054.914</td>\n      <td>6.0</td>\n    </tr>\n    <tr>\n      <th>Turkey</th>\n      <td>9437.372</td>\n      <td>5.6</td>\n    </tr>\n    <tr>\n      <th>Hungary</th>\n      <td>12239.894</td>\n      <td>4.9</td>\n    </tr>\n    <tr>\n      <th>Poland</th>\n      <td>12495.334</td>\n      <td>5.8</td>\n    </tr>\n    <tr>\n      <th>Slovak Republic</th>\n      <td>15991.736</td>\n      <td>6.1</td>\n    </tr>\n  </tbody>\n</table>\n</div>"
     },
     "execution_count": 63,
     "metadata": {},
     "output_type": "execute_result"
    }
   ],
   "source": [
    "sample_data.head()"
   ],
   "metadata": {
    "collapsed": false,
    "pycharm": {
     "name": "#%%\n"
    }
   }
  },
  {
   "cell_type": "code",
   "execution_count": 64,
   "outputs": [
    {
     "name": "stdout",
     "output_type": "stream",
     "text": [
      "Saving figure money_happy_scatterplot\n"
     ]
    },
    {
     "data": {
      "text/plain": "<Figure size 432x288 with 1 Axes>",
      "image/png": "[encoded data removed]"
     },
     "metadata": {
      "needs_background": "light"
     },
     "output_type": "display_data"
    }
   ],
   "source": [
    "# 添加注释\n",
    "plt.axis([0, 60000, 0, 10])\n",
    "position_text = {\n",
    "    \"Hungary\": (5000, 1),\n",
    "    \"Korea\": (18000, 1.7),\n",
    "    \"France\": (29000, 2.4),\n",
    "    \"Australia\": (40000, 3.0),\n",
    "    \"United States\": (52000, 3.8),\n",
    "}\n",
    "\n",
    "for country,pos_text in position_text.items():\n",
    "    pos_data_x, pos_data_y = sample_data.loc[country]\n",
    "    country = \"U.S.\" if country == \"United States\" else country\n",
    "    plt.annotate(country,xy=(pos_data_x,pos_data_y),xytext = pos_text,\n",
    "                 arrowprops=dict(facecolor='black', width=0.5, shrink=0.1, headwidth=5))\n",
    "    plt.plot(pos_data_x, pos_data_y, \"ro\")\n",
    "plt.xlabel(\"GDP per capita (USD)\")\n",
    "save_fig('money_happy_scatterplot')\n",
    "plt.show()"
   ],
   "metadata": {
    "collapsed": false,
    "pycharm": {
     "name": "#%%\n"
    }
   }
  },
  {
   "cell_type": "code",
   "execution_count": 65,
   "outputs": [],
   "source": [
    "sample_data.to_csv(os.path.join(\"datasets\", \"lifesat\", \"lifesat.csv\"))"
   ],
   "metadata": {
    "collapsed": false,
    "pycharm": {
     "name": "#%%\n"
    }
   }
  },
  {
   "cell_type": "code",
   "execution_count": 66,
   "outputs": [
    {
     "data": {
      "text/plain": "               GDP per capita  Life satisfaction\nCountry                                         \nHungary             12239.894                4.9\nKorea               27195.197                5.8\nFrance              37675.006                6.5\nAustralia           50961.865                7.3\nUnited States       55805.204                7.2",
      "text/html": "<div>\n<style scoped>\n    .dataframe tbody tr th:only-of-type {\n        vertical-align: middle;\n    }\n\n    .dataframe tbody tr th {\n        vertical-align: top;\n    }\n\n    .dataframe thead th {\n        text-align: right;\n    }\n</style>\n<table border=\"1\" class=\"dataframe\">\n  <thead>\n    <tr style=\"text-align: right;\">\n      <th></th>\n      <th>GDP per capita</th>\n      <th>Life satisfaction</th>\n    </tr>\n    <tr>\n      <th>Country</th>\n      <th></th>\n      <th></th>\n    </tr>\n  </thead>\n  <tbody>\n    <tr>\n      <th>Hungary</th>\n      <td>12239.894</td>\n      <td>4.9</td>\n    </tr>\n    <tr>\n      <th>Korea</th>\n      <td>27195.197</td>\n      <td>5.8</td>\n    </tr>\n    <tr>\n      <th>France</th>\n      <td>37675.006</td>\n      <td>6.5</td>\n    </tr>\n    <tr>\n      <th>Australia</th>\n      <td>50961.865</td>\n      <td>7.3</td>\n    </tr>\n    <tr>\n      <th>United States</th>\n      <td>55805.204</td>\n      <td>7.2</td>\n    </tr>\n  </tbody>\n</table>\n</div>"
     },
     "execution_count": 66,
     "metadata": {},
     "output_type": "execute_result"
    }
   ],
   "source": [
    "sample_data.loc[list(position_text.keys())]"
   ],
   "metadata": {
    "collapsed": false,
    "pycharm": {
     "name": "#%%\n"
    }
   }
  },
  {
   "cell_type": "code",
   "execution_count": null,
   "outputs": [],
   "source": [
    "import  numpy as np\n",
    "\n"
   ],
   "metadata": {
    "collapsed": false,
    "pycharm": {
     "name": "#%%\n"
    }
   }
  }
 ],
 "metadata": {
  "kernelspec": {
   "display_name": "Python 3",
   "language": "python",
   "name": "python3"
  },
  "language_info": {
   "codemirror_mode": {
    "name": "ipython",
    "version": 2
   },
   "file_extension": ".py",
   "mimetype": "text/x-python",
   "name": "python",
   "nbconvert_exporter": "python",
   "pygments_lexer": "ipython2",
   "version": "2.7.6"
  }
 },
 "nbformat": 4,
 "nbformat_minor": 0
}
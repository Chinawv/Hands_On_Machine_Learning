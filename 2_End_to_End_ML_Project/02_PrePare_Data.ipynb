{
 "cells": [
  {
   "cell_type": "code",
   "execution_count": 78,
   "metadata": {
    "collapsed": true
   },
   "outputs": [],
   "source": [
    "\"\"\"\n",
    "    separate the predictors aand the labels\n",
    "\"\"\"\n",
    "import pandas as pd\n",
    "import numpy as np\n",
    "import os\n",
    "\n",
    "HOUSING_PATH = './'\n",
    "def load_housing_data(housing_path = HOUSING_PATH):\n",
    "    csv_path = os.path.join(housing_path,\"housing.csv\")\n",
    "    return pd.read_csv(csv_path)\n",
    "\n",
    "housing = load_housing_data()\n",
    "\n",
    "\"\"\"cut the median_income into five categories\"\"\"\n",
    "housing[\"income_cut\"] = pd.cut(housing[\"median_income\"],\n",
    "                               bins=[0.,1.5,3.0,4.5,6.,np.inf],\n",
    "                               labels=[1,2,3,4,5])"
   ]
  },
  {
   "cell_type": "code",
   "execution_count": 79,
   "outputs": [],
   "source": [
    "from sklearn.model_selection import StratifiedShuffleSplit\n",
    "\n",
    "split = StratifiedShuffleSplit(n_splits=1,test_size=0.2,random_state=42)\n",
    "for train_index,test_index in split.split(housing,housing[\"income_cut\"]):\n",
    "    start_train_set = housing.loc[train_index]\n",
    "    start_test_set = housing.loc[test_index]"
   ],
   "metadata": {
    "collapsed": false,
    "pycharm": {
     "name": "#%%\n"
    }
   }
  },
  {
   "cell_type": "code",
   "execution_count": 80,
   "outputs": [],
   "source": [
    "\"\"\"\n",
    "    prepare the data for algorithm\n",
    "\"\"\"\n",
    "housing = start_train_set.drop(\"median_house_value\",axis=1)\n",
    "housing_labels = start_train_set[\"median_house_value\"].copy()"
   ],
   "metadata": {
    "collapsed": false,
    "pycharm": {
     "name": "#%%\n"
    }
   }
  },
  {
   "cell_type": "code",
   "execution_count": 81,
   "outputs": [
    {
     "data": {
      "text/plain": "          longitude      latitude  housing_median_age   total_rooms  \\\ncount  16512.000000  16512.000000        16512.000000  16512.000000   \nmean    -119.575834     35.639577           28.653101   2622.728319   \nstd        2.001860      2.138058           12.574726   2138.458419   \nmin     -124.350000     32.540000            1.000000      6.000000   \n25%     -121.800000     33.940000           18.000000   1443.000000   \n50%     -118.510000     34.260000           29.000000   2119.500000   \n75%     -118.010000     37.720000           37.000000   3141.000000   \nmax     -114.310000     41.950000           52.000000  39320.000000   \n\n       total_bedrooms    population    households  median_income  \ncount    16354.000000  16512.000000  16512.000000   16512.000000  \nmean       534.973890   1419.790819    497.060380       3.875589  \nstd        412.699041   1115.686241    375.720845       1.904950  \nmin          2.000000      3.000000      2.000000       0.499900  \n25%        295.000000    784.000000    279.000000       2.566775  \n50%        433.000000   1164.000000    408.000000       3.540900  \n75%        644.000000   1719.250000    602.000000       4.744475  \nmax       6210.000000  35682.000000   5358.000000      15.000100  ",
      "text/html": "<div>\n<style scoped>\n    .dataframe tbody tr th:only-of-type {\n        vertical-align: middle;\n    }\n\n    .dataframe tbody tr th {\n        vertical-align: top;\n    }\n\n    .dataframe thead th {\n        text-align: right;\n    }\n</style>\n<table border=\"1\" class=\"dataframe\">\n  <thead>\n    <tr style=\"text-align: right;\">\n      <th></th>\n      <th>longitude</th>\n      <th>latitude</th>\n      <th>housing_median_age</th>\n      <th>total_rooms</th>\n      <th>total_bedrooms</th>\n      <th>population</th>\n      <th>households</th>\n      <th>median_income</th>\n    </tr>\n  </thead>\n  <tbody>\n    <tr>\n      <th>count</th>\n      <td>16512.000000</td>\n      <td>16512.000000</td>\n      <td>16512.000000</td>\n      <td>16512.000000</td>\n      <td>16354.000000</td>\n      <td>16512.000000</td>\n      <td>16512.000000</td>\n      <td>16512.000000</td>\n    </tr>\n    <tr>\n      <th>mean</th>\n      <td>-119.575834</td>\n      <td>35.639577</td>\n      <td>28.653101</td>\n      <td>2622.728319</td>\n      <td>534.973890</td>\n      <td>1419.790819</td>\n      <td>497.060380</td>\n      <td>3.875589</td>\n    </tr>\n    <tr>\n      <th>std</th>\n      <td>2.001860</td>\n      <td>2.138058</td>\n      <td>12.574726</td>\n      <td>2138.458419</td>\n      <td>412.699041</td>\n      <td>1115.686241</td>\n      <td>375.720845</td>\n      <td>1.904950</td>\n    </tr>\n    <tr>\n      <th>min</th>\n      <td>-124.350000</td>\n      <td>32.540000</td>\n      <td>1.000000</td>\n      <td>6.000000</td>\n      <td>2.000000</td>\n      <td>3.000000</td>\n      <td>2.000000</td>\n      <td>0.499900</td>\n    </tr>\n    <tr>\n      <th>25%</th>\n      <td>-121.800000</td>\n      <td>33.940000</td>\n      <td>18.000000</td>\n      <td>1443.000000</td>\n      <td>295.000000</td>\n      <td>784.000000</td>\n      <td>279.000000</td>\n      <td>2.566775</td>\n    </tr>\n    <tr>\n      <th>50%</th>\n      <td>-118.510000</td>\n      <td>34.260000</td>\n      <td>29.000000</td>\n      <td>2119.500000</td>\n      <td>433.000000</td>\n      <td>1164.000000</td>\n      <td>408.000000</td>\n      <td>3.540900</td>\n    </tr>\n    <tr>\n      <th>75%</th>\n      <td>-118.010000</td>\n      <td>37.720000</td>\n      <td>37.000000</td>\n      <td>3141.000000</td>\n      <td>644.000000</td>\n      <td>1719.250000</td>\n      <td>602.000000</td>\n      <td>4.744475</td>\n    </tr>\n    <tr>\n      <th>max</th>\n      <td>-114.310000</td>\n      <td>41.950000</td>\n      <td>52.000000</td>\n      <td>39320.000000</td>\n      <td>6210.000000</td>\n      <td>35682.000000</td>\n      <td>5358.000000</td>\n      <td>15.000100</td>\n    </tr>\n  </tbody>\n</table>\n</div>"
     },
     "execution_count": 81,
     "metadata": {},
     "output_type": "execute_result"
    }
   ],
   "source": [
    "housing.describe()\n"
   ],
   "metadata": {
    "collapsed": false,
    "pycharm": {
     "name": "#%%\n"
    }
   }
  },
  {
   "cell_type": "code",
   "execution_count": 82,
   "outputs": [
    {
     "data": {
      "text/plain": "       longitude  latitude  housing_median_age  total_rooms  total_bedrooms  \\\n17606    -121.89     37.29                38.0       1568.0           351.0   \n18632    -121.93     37.05                14.0        679.0           108.0   \n14650    -117.20     32.77                31.0       1952.0           471.0   \n3230     -119.61     36.31                25.0       1847.0           371.0   \n3555     -118.59     34.23                17.0       6592.0          1525.0   \n\n       population  households  median_income ocean_proximity income_cut  \n17606       710.0       339.0         2.7042       <1H OCEAN          2  \n18632       306.0       113.0         6.4214       <1H OCEAN          5  \n14650       936.0       462.0         2.8621      NEAR OCEAN          2  \n3230       1460.0       353.0         1.8839          INLAND          2  \n3555       4459.0      1463.0         3.0347       <1H OCEAN          3  ",
      "text/html": "<div>\n<style scoped>\n    .dataframe tbody tr th:only-of-type {\n        vertical-align: middle;\n    }\n\n    .dataframe tbody tr th {\n        vertical-align: top;\n    }\n\n    .dataframe thead th {\n        text-align: right;\n    }\n</style>\n<table border=\"1\" class=\"dataframe\">\n  <thead>\n    <tr style=\"text-align: right;\">\n      <th></th>\n      <th>longitude</th>\n      <th>latitude</th>\n      <th>housing_median_age</th>\n      <th>total_rooms</th>\n      <th>total_bedrooms</th>\n      <th>population</th>\n      <th>households</th>\n      <th>median_income</th>\n      <th>ocean_proximity</th>\n      <th>income_cut</th>\n    </tr>\n  </thead>\n  <tbody>\n    <tr>\n      <th>17606</th>\n      <td>-121.89</td>\n      <td>37.29</td>\n      <td>38.0</td>\n      <td>1568.0</td>\n      <td>351.0</td>\n      <td>710.0</td>\n      <td>339.0</td>\n      <td>2.7042</td>\n      <td>&lt;1H OCEAN</td>\n      <td>2</td>\n    </tr>\n    <tr>\n      <th>18632</th>\n      <td>-121.93</td>\n      <td>37.05</td>\n      <td>14.0</td>\n      <td>679.0</td>\n      <td>108.0</td>\n      <td>306.0</td>\n      <td>113.0</td>\n      <td>6.4214</td>\n      <td>&lt;1H OCEAN</td>\n      <td>5</td>\n    </tr>\n    <tr>\n      <th>14650</th>\n      <td>-117.20</td>\n      <td>32.77</td>\n      <td>31.0</td>\n      <td>1952.0</td>\n      <td>471.0</td>\n      <td>936.0</td>\n      <td>462.0</td>\n      <td>2.8621</td>\n      <td>NEAR OCEAN</td>\n      <td>2</td>\n    </tr>\n    <tr>\n      <th>3230</th>\n      <td>-119.61</td>\n      <td>36.31</td>\n      <td>25.0</td>\n      <td>1847.0</td>\n      <td>371.0</td>\n      <td>1460.0</td>\n      <td>353.0</td>\n      <td>1.8839</td>\n      <td>INLAND</td>\n      <td>2</td>\n    </tr>\n    <tr>\n      <th>3555</th>\n      <td>-118.59</td>\n      <td>34.23</td>\n      <td>17.0</td>\n      <td>6592.0</td>\n      <td>1525.0</td>\n      <td>4459.0</td>\n      <td>1463.0</td>\n      <td>3.0347</td>\n      <td>&lt;1H OCEAN</td>\n      <td>3</td>\n    </tr>\n  </tbody>\n</table>\n</div>"
     },
     "execution_count": 82,
     "metadata": {},
     "output_type": "execute_result"
    }
   ],
   "source": [
    "\"\"\"\n",
    "    #option 1 :housing.dropna(subset = [\"total_bedrooms\"])\n",
    "    #option 2 :housing.drop(\"total_bedrooms\",axis = 1)\n",
    "\"\"\"\n",
    "median = housing[\"total_bedrooms\"].median()\n",
    "housing[\"total_bedrooms\"].fillna(median,inplace = True)\n",
    "housing.head()"
   ],
   "metadata": {
    "collapsed": false,
    "pycharm": {
     "name": "#%%\n"
    }
   }
  },
  {
   "cell_type": "code",
   "execution_count": 83,
   "outputs": [
    {
     "data": {
      "text/plain": "array([-118.51  ,   34.26  ,   29.    , 2119.5   ,  433.    , 1164.    ,\n        408.    ,    3.5409,    3.    ])"
     },
     "execution_count": 83,
     "metadata": {},
     "output_type": "execute_result"
    }
   ],
   "source": [
    "\"\"\"\n",
    "    How to use the sklearn to solve the missing data\n",
    "\"\"\"\n",
    "from sklearn.impute import SimpleImputer\n",
    "imputer = SimpleImputer(strategy=\"median\")\n",
    "\n",
    "housing_num = housing.drop(\"ocean_proximity\",axis = 1)\n",
    "\n",
    "imputer.fit(housing_num) # housing_num 's type is a dataframe\n",
    "imputer.statistics_"
   ],
   "metadata": {
    "collapsed": false,
    "pycharm": {
     "name": "#%%\n"
    }
   }
  },
  {
   "cell_type": "code",
   "execution_count": 84,
   "outputs": [
    {
     "data": {
      "text/plain": "array([-118.51  ,   34.26  ,   29.    , 2119.5   ,  433.    , 1164.    ,\n        408.    ,    3.5409])"
     },
     "execution_count": 84,
     "metadata": {},
     "output_type": "execute_result"
    }
   ],
   "source": [
    "housing_num.median().values"
   ],
   "metadata": {
    "collapsed": false,
    "pycharm": {
     "name": "#%%\n"
    }
   }
  },
  {
   "cell_type": "code",
   "execution_count": 85,
   "outputs": [],
   "source": [
    "\"\"\"\n",
    "    use imputer to transform the training set by replacing missing values\n",
    "\"\"\"\n",
    "X = imputer.transform(housing_num) # the result is numpy array\n",
    "\n",
    "housing_tr = pd.DataFrame(X,columns=housing_num.columns,index = housing_num.index)"
   ],
   "metadata": {
    "collapsed": false,
    "pycharm": {
     "name": "#%%\n"
    }
   }
  },
  {
   "cell_type": "code",
   "execution_count": 86,
   "outputs": [
    {
     "data": {
      "text/plain": "      ocean_proximity\n17606       <1H OCEAN\n18632       <1H OCEAN\n14650      NEAR OCEAN\n3230           INLAND\n3555        <1H OCEAN",
      "text/html": "<div>\n<style scoped>\n    .dataframe tbody tr th:only-of-type {\n        vertical-align: middle;\n    }\n\n    .dataframe tbody tr th {\n        vertical-align: top;\n    }\n\n    .dataframe thead th {\n        text-align: right;\n    }\n</style>\n<table border=\"1\" class=\"dataframe\">\n  <thead>\n    <tr style=\"text-align: right;\">\n      <th></th>\n      <th>ocean_proximity</th>\n    </tr>\n  </thead>\n  <tbody>\n    <tr>\n      <th>17606</th>\n      <td>&lt;1H OCEAN</td>\n    </tr>\n    <tr>\n      <th>18632</th>\n      <td>&lt;1H OCEAN</td>\n    </tr>\n    <tr>\n      <th>14650</th>\n      <td>NEAR OCEAN</td>\n    </tr>\n    <tr>\n      <th>3230</th>\n      <td>INLAND</td>\n    </tr>\n    <tr>\n      <th>3555</th>\n      <td>&lt;1H OCEAN</td>\n    </tr>\n  </tbody>\n</table>\n</div>"
     },
     "execution_count": 86,
     "metadata": {},
     "output_type": "execute_result"
    }
   ],
   "source": [
    "housing_cat = housing[[\"ocean_proximity\"]]\n",
    "housing_cat.head()"
   ],
   "metadata": {
    "collapsed": false,
    "pycharm": {
     "name": "#%%\n"
    }
   }
  },
  {
   "cell_type": "code",
   "execution_count": 87,
   "outputs": [
    {
     "data": {
      "text/plain": "array([[0.],\n       [0.],\n       [4.],\n       [1.],\n       [0.],\n       [1.],\n       [0.],\n       [1.],\n       [0.],\n       [0.]])"
     },
     "execution_count": 87,
     "metadata": {},
     "output_type": "execute_result"
    }
   ],
   "source": [
    "\"\"\"\n",
    "    use sklearn's OrdinalEncode convert these categories from text\n",
    "\"\"\"\n",
    "from sklearn.preprocessing import OrdinalEncoder\n",
    "ordinal_encoder = OrdinalEncoder()\n",
    "housing_cat_encoded = ordinal_encoder.fit_transform(housing_cat)\n",
    "housing_cat_encoded[:10]"
   ],
   "metadata": {
    "collapsed": false,
    "pycharm": {
     "name": "#%%\n"
    }
   }
  },
  {
   "cell_type": "code",
   "execution_count": 88,
   "outputs": [
    {
     "data": {
      "text/plain": "[array(['<1H OCEAN', 'INLAND', 'ISLAND', 'NEAR BAY', 'NEAR OCEAN'],\n       dtype=object)]"
     },
     "execution_count": 88,
     "metadata": {},
     "output_type": "execute_result"
    }
   ],
   "source": [
    "ordinal_encoder.categories_"
   ],
   "metadata": {
    "collapsed": false,
    "pycharm": {
     "name": "#%%\n"
    }
   }
  },
  {
   "cell_type": "code",
   "execution_count": 89,
   "outputs": [
    {
     "data": {
      "text/plain": "<16512x5 sparse matrix of type '<class 'numpy.float64'>'\n\twith 16512 stored elements in Compressed Sparse Row format>"
     },
     "execution_count": 89,
     "metadata": {},
     "output_type": "execute_result"
    }
   ],
   "source": [
    "\"\"\"\n",
    "    OneHotEncoder class to convert categories values into one-hot values\n",
    "\"\"\"\n",
    "from sklearn.preprocessing import OneHotEncoder\n",
    "cat_encoder = OneHotEncoder()\n",
    "housing_cat_1hot = cat_encoder.fit_transform(housing_cat)\n",
    "housing_cat_1hot\n",
    "\n",
    "# output is a scipy sparse matrix instead of a numpy array"
   ],
   "metadata": {
    "collapsed": false,
    "pycharm": {
     "name": "#%%\n"
    }
   }
  },
  {
   "cell_type": "code",
   "execution_count": 90,
   "outputs": [
    {
     "data": {
      "text/plain": "array([[1., 0., 0., 0., 0.],\n       [1., 0., 0., 0., 0.],\n       [0., 0., 0., 0., 1.],\n       ...,\n       [0., 1., 0., 0., 0.],\n       [1., 0., 0., 0., 0.],\n       [0., 0., 0., 1., 0.]])"
     },
     "execution_count": 90,
     "metadata": {},
     "output_type": "execute_result"
    }
   ],
   "source": [
    "\"\"\"\n",
    "    convert it to a dense numpy array\n",
    "\"\"\"\n",
    "housing_cat_1hot.toarray()"
   ],
   "metadata": {
    "collapsed": false,
    "pycharm": {
     "name": "#%%\n"
    }
   }
  },
  {
   "cell_type": "code",
   "execution_count": 91,
   "outputs": [
    {
     "data": {
      "text/plain": "[array(['<1H OCEAN', 'INLAND', 'ISLAND', 'NEAR BAY', 'NEAR OCEAN'],\n       dtype=object)]"
     },
     "execution_count": 91,
     "metadata": {},
     "output_type": "execute_result"
    }
   ],
   "source": [
    "cat_encoder.categories_"
   ],
   "metadata": {
    "collapsed": false,
    "pycharm": {
     "name": "#%%\n"
    }
   }
  },
  {
   "cell_type": "code",
   "execution_count": 92,
   "outputs": [
    {
     "data": {
      "text/plain": "array([[-121.89, 37.29, 38.0, ..., 2.7042, '<1H OCEAN', 2],\n       [-121.93, 37.05, 14.0, ..., 6.4214, '<1H OCEAN', 5],\n       [-117.2, 32.77, 31.0, ..., 2.8621, 'NEAR OCEAN', 2],\n       ...,\n       [-116.4, 34.09, 9.0, ..., 3.2723, 'INLAND', 3],\n       [-118.01, 33.82, 31.0, ..., 4.0625, '<1H OCEAN', 3],\n       [-122.45, 37.77, 52.0, ..., 3.575, 'NEAR BAY', 3]], dtype=object)"
     },
     "execution_count": 92,
     "metadata": {},
     "output_type": "execute_result"
    }
   ],
   "source": [
    "from sklearn.base import BaseEstimator,TransformerMixin\n",
    "\n",
    "rooms_ix,bedrooms_ix,population_ix,households_ix = 3,4,5,6\n",
    "class CombinedAttributesAdder(BaseEstimator,TransformerMixin):\n",
    "    # no *args or ** kargs\n",
    "    def __init__(self,add_bedrooms_per_room = True):\n",
    "        self.add_bedrooms_per_room = add_bedrooms_per_room\n",
    "\n",
    "    def fit(self,X,y = None):\n",
    "        return self # nothing else to do\n",
    "\n",
    "    def transform(self,X,y = None):\n",
    "        rooms_per_household = X[:,rooms_ix]/X[:,households_ix]\n",
    "        population_per_household = X[:,population_ix]/X[:,households_ix]\n",
    "        if self.add_bedrooms_per_room:\n",
    "            bedrooms_per_room = X[:,bedrooms_ix]/X[:,rooms_ix]\n",
    "            return np.c_[X,rooms_per_household,population_per_household,bedrooms_per_room]\n",
    "        else:\n",
    "            return np.c_[X,rooms_per_household,population_per_household]\n",
    "\n",
    "attr_adder = CombinedAttributesAdder(add_bedrooms_per_room=False)\n",
    "housing_extra_attribs = attr_adder.transform(housing.values)\n",
    "housing.values"
   ],
   "metadata": {
    "collapsed": false,
    "pycharm": {
     "name": "#%%\n"
    }
   }
  },
  {
   "cell_type": "code",
   "execution_count": 93,
   "outputs": [
    {
     "data": {
      "text/plain": "array([[-121.89, 37.29, 38.0, ..., 2, 4.625368731563422,\n        2.094395280235988],\n       [-121.93, 37.05, 14.0, ..., 5, 6.008849557522124,\n        2.7079646017699117],\n       [-117.2, 32.77, 31.0, ..., 2, 4.225108225108225,\n        2.0259740259740258],\n       ...,\n       [-116.4, 34.09, 9.0, ..., 3, 6.34640522875817, 2.742483660130719],\n       [-118.01, 33.82, 31.0, ..., 3, 5.50561797752809,\n        3.808988764044944],\n       [-122.45, 37.77, 52.0, ..., 3, 4.843505477308295,\n        1.9859154929577465]], dtype=object)"
     },
     "execution_count": 93,
     "metadata": {},
     "output_type": "execute_result"
    }
   ],
   "source": [
    "housing_extra_attribs"
   ],
   "metadata": {
    "collapsed": false,
    "pycharm": {
     "name": "#%%\n"
    }
   }
  },
  {
   "cell_type": "code",
   "execution_count": 94,
   "outputs": [
    {
     "data": {
      "text/plain": "array([[-1.15604281,  0.77194962,  0.74333089, ..., -0.31205452,\n        -0.08649871,  0.15531753],\n       [-1.17602483,  0.6596948 , -1.1653172 , ...,  0.21768338,\n        -0.03353391, -0.83628902],\n       [ 1.18684903, -1.34218285,  0.18664186, ..., -0.46531516,\n        -0.09240499,  0.4222004 ],\n       ...,\n       [ 1.58648943, -0.72478134, -1.56295222, ...,  0.3469342 ,\n        -0.03055414, -0.52177644],\n       [ 0.78221312, -0.85106801,  0.18664186, ...,  0.02499488,\n         0.06150916, -0.30340741],\n       [-1.43579109,  0.99645926,  1.85670895, ..., -0.22852947,\n        -0.09586294,  0.10180567]])"
     },
     "execution_count": 94,
     "metadata": {},
     "output_type": "execute_result"
    }
   ],
   "source": [
    "from sklearn.pipeline import Pipeline\n",
    "from sklearn.preprocessing import StandardScaler\n",
    "\n",
    "num_pipeline = Pipeline([\n",
    "    ('imputer',SimpleImputer(strategy=\"median\")),\n",
    "    ('attribs_adder',CombinedAttributesAdder()),\n",
    "    ('std_scaler',StandardScaler()),\n",
    "])\n",
    "housing_num_tr = num_pipeline.fit_transform(housing_num)\n",
    "housing_num_tr"
   ],
   "metadata": {
    "collapsed": false,
    "pycharm": {
     "name": "#%%\n"
    }
   }
  },
  {
   "cell_type": "code",
   "execution_count": 95,
   "outputs": [
    {
     "data": {
      "text/plain": "array([[-1.15604281,  0.77194962,  0.74333089, ...,  0.        ,\n         0.        ,  0.        ],\n       [-1.17602483,  0.6596948 , -1.1653172 , ...,  0.        ,\n         0.        ,  0.        ],\n       [ 1.18684903, -1.34218285,  0.18664186, ...,  0.        ,\n         0.        ,  1.        ],\n       ...,\n       [ 1.58648943, -0.72478134, -1.56295222, ...,  0.        ,\n         0.        ,  0.        ],\n       [ 0.78221312, -0.85106801,  0.18664186, ...,  0.        ,\n         0.        ,  0.        ],\n       [-1.43579109,  0.99645926,  1.85670895, ...,  0.        ,\n         1.        ,  0.        ]])"
     },
     "execution_count": 95,
     "metadata": {},
     "output_type": "execute_result"
    }
   ],
   "source": [
    "\"\"\"\n",
    "    apply the appropriate transformers to each column\n",
    "\"\"\"\n",
    "from sklearn.compose import ColumnTransformer\n",
    "\n",
    "num_attribs = list(housing_num)\n",
    "cat_attribs = [\"ocean_proximity\"]\n",
    "\n",
    "full_pipeline = ColumnTransformer([\n",
    "    (\"num\",num_pipeline,num_attribs),\n",
    "    (\"cat\",OneHotEncoder(),cat_attribs),\n",
    "])\n",
    "\n",
    "# 处理后的housing_prepared是ndarray\n",
    "housing_prepared = full_pipeline.fit_transform(housing)\n",
    "housing_prepared"
   ],
   "metadata": {
    "collapsed": false,
    "pycharm": {
     "name": "#%%\n"
    }
   }
  },
  {
   "cell_type": "code",
   "execution_count": 96,
   "outputs": [
    {
     "data": {
      "text/plain": "LinearRegression()"
     },
     "execution_count": 96,
     "metadata": {},
     "output_type": "execute_result"
    }
   ],
   "source": [
    "from sklearn.linear_model import LinearRegression\n",
    "\n",
    "lin_reg = LinearRegression()\n",
    "lin_reg.fit(housing_prepared,housing_labels)"
   ],
   "metadata": {
    "collapsed": false,
    "pycharm": {
     "name": "#%%\n"
    }
   }
  },
  {
   "cell_type": "code",
   "execution_count": 97,
   "outputs": [
    {
     "name": "stdout",
     "output_type": "stream",
     "text": [
      "Predictions: [203682.37379543 326371.39370781 204218.64588245  58685.4770482\n",
      " 194213.06443039]\n"
     ]
    }
   ],
   "source": [
    "some_data = housing.iloc[:5]\n",
    "some_labels = housing_labels.iloc[:5]\n",
    "\n",
    "some_data_prepared = full_pipeline.transform(some_data)\n",
    "\n",
    "print(\"Predictions:\",lin_reg.predict(some_data_prepared))"
   ],
   "metadata": {
    "collapsed": false,
    "pycharm": {
     "name": "#%%\n"
    }
   }
  },
  {
   "cell_type": "code",
   "execution_count": 98,
   "outputs": [
    {
     "name": "stdout",
     "output_type": "stream",
     "text": [
      "Labels: [286600.0, 340600.0, 196900.0, 46300.0, 254500.0]\n"
     ]
    }
   ],
   "source": [
    "print(\"Labels:\",list(some_labels))\n"
   ],
   "metadata": {
    "collapsed": false,
    "pycharm": {
     "name": "#%%\n"
    }
   }
  },
  {
   "cell_type": "code",
   "execution_count": 99,
   "outputs": [
    {
     "data": {
      "text/plain": "68376.64295459937"
     },
     "execution_count": 99,
     "metadata": {},
     "output_type": "execute_result"
    }
   ],
   "source": [
    "from sklearn.metrics import mean_squared_error\n",
    "housing_predictions = lin_reg.predict(housing_prepared)\n",
    "lin_mse = mean_squared_error(housing_labels,housing_predictions)\n",
    "lin_rmse = np.sqrt(lin_mse)\n",
    "lin_rmse"
   ],
   "metadata": {
    "collapsed": false,
    "pycharm": {
     "name": "#%%\n"
    }
   }
  },
  {
   "cell_type": "code",
   "execution_count": 100,
   "outputs": [
    {
     "data": {
      "text/plain": "0.0"
     },
     "execution_count": 100,
     "metadata": {},
     "output_type": "execute_result"
    }
   ],
   "source": [
    "from sklearn.tree import DecisionTreeRegressor\n",
    "\n",
    "tree_reg = DecisionTreeRegressor()\n",
    "tree_reg.fit(housing_prepared,housing_labels)\n",
    "\n",
    "housing_predictions = tree_reg.predict(housing_prepared)\n",
    "tree_mse = mean_squared_error(housing_labels,housing_predictions)\n",
    "tree_rmse = np.sqrt(tree_mse)\n",
    "tree_rmse"
   ],
   "metadata": {
    "collapsed": false,
    "pycharm": {
     "name": "#%%\n"
    }
   }
  },
  {
   "cell_type": "code",
   "execution_count": 101,
   "outputs": [],
   "source": [
    "\"\"\"\n",
    "    交叉验证 - K-fold cross-validation\n",
    "\"\"\"\n",
    "from sklearn.model_selection import cross_val_score\n",
    "scores = cross_val_score(tree_reg,housing_prepared,\n",
    "                         housing_labels,scoring=\"neg_mean_squared_error\",cv = 10)\n",
    "tree_rmse_scores = np.sqrt(-scores)"
   ],
   "metadata": {
    "collapsed": false,
    "pycharm": {
     "name": "#%%\n"
    }
   }
  },
  {
   "cell_type": "code",
   "execution_count": 102,
   "outputs": [
    {
     "name": "stdout",
     "output_type": "stream",
     "text": [
      "Scores: [69715.51769022 64975.76635455 71263.11219403 69089.04238115\n",
      " 71264.03553795 74657.38819783 72294.88907993 72497.90918128\n",
      " 77257.77807504 69622.6369574 ]\n",
      "Mean: 71263.80756493699\n",
      "Standard deviation 3152.616639886209\n"
     ]
    }
   ],
   "source": [
    "def display_scores(scores):\n",
    "    print(\"Scores:\",scores)\n",
    "    print(\"Mean:\",scores.mean())\n",
    "    print(\"Standard deviation\",scores.std())\n",
    "\n",
    "display_scores(tree_rmse_scores)"
   ],
   "metadata": {
    "collapsed": false,
    "pycharm": {
     "name": "#%%\n"
    }
   }
  },
  {
   "cell_type": "code",
   "execution_count": 103,
   "outputs": [
    {
     "name": "stdout",
     "output_type": "stream",
     "text": [
      "Scores: [66877.52325028 66608.120256   70575.91118868 74179.94799352\n",
      " 67683.32205678 71103.16843468 64782.65896552 67711.29940352\n",
      " 71080.40484136 67687.6384546 ]\n",
      "Mean: 68828.99948449331\n",
      "Standard deviation 2662.761570610342\n"
     ]
    }
   ],
   "source": [
    "\"\"\"\n",
    "    检验线性回归模型 交叉验证的分数\n",
    "\"\"\"\n",
    "lin_scores = cross_val_score(lin_reg,housing_prepared,\n",
    "                             housing_labels,scoring=\"neg_mean_squared_error\",cv = 10)\n",
    "lin_rmse_scores = np.sqrt(-lin_scores)\n",
    "display_scores(lin_rmse_scores)"
   ],
   "metadata": {
    "collapsed": false,
    "pycharm": {
     "name": "#%%\n"
    }
   }
  },
  {
   "cell_type": "code",
   "execution_count": 104,
   "outputs": [
    {
     "data": {
      "text/plain": "18660.993416405552"
     },
     "execution_count": 104,
     "metadata": {},
     "output_type": "execute_result"
    }
   ],
   "source": [
    "\"\"\" Random Forest\"\"\"\n",
    "from sklearn.ensemble import RandomForestRegressor\n",
    "forest_reg = RandomForestRegressor()\n",
    "forest_reg.fit(housing_prepared,housing_labels)\n",
    "\n",
    "housing_predictions = forest_reg.predict(housing_prepared)\n",
    "forest_mse = mean_squared_error(housing_labels,housing_predictions)\n",
    "forest_rmse = np.sqrt(forest_mse)\n",
    "forest_rmse"
   ],
   "metadata": {
    "collapsed": false,
    "pycharm": {
     "name": "#%%\n"
    }
   }
  },
  {
   "cell_type": "code",
   "execution_count": 105,
   "outputs": [
    {
     "name": "stdout",
     "output_type": "stream",
     "text": [
      "Scores: [49488.61309579 47607.22100081 49914.27847241 52553.49434429\n",
      " 49660.3162428  53641.24362424 48398.76905347 47893.3959931\n",
      " 53239.38743239 50446.25840771]\n",
      "Mean: 50284.297766699456\n",
      "Standard deviation 2068.208788429515\n"
     ]
    }
   ],
   "source": [
    "forest_scores = cross_val_score(forest_reg,housing_prepared,\n",
    "                             housing_labels,scoring=\"neg_mean_squared_error\",cv = 10)\n",
    "forest_rmse_scores = np.sqrt(-forest_scores)\n",
    "display_scores(forest_rmse_scores)"
   ],
   "metadata": {
    "collapsed": false,
    "pycharm": {
     "name": "#%%\n"
    }
   }
  },
  {
   "cell_type": "code",
   "execution_count": 106,
   "outputs": [
    {
     "data": {
      "text/plain": "GridSearchCV(cv=5, estimator=RandomForestRegressor(),\n             param_grid=[{'max_features': [2, 4, 6, 8],\n                          'n_estimators': [3, 10, 30]},\n                         {'bootstrap': [False], 'max_features': [2, 3, 4],\n                          'n_estimators': [3, 10]}],\n             return_train_score=True, scoring='neg_mean_squared_error')"
     },
     "execution_count": 106,
     "metadata": {},
     "output_type": "execute_result"
    }
   ],
   "source": [
    "from sklearn.model_selection import GridSearchCV\n",
    "\n",
    "param_grid  = [\n",
    "    {'n_estimators':[3,10,30],'max_features':[2,4,6,8]},\n",
    "    {'bootstrap':[False],'n_estimators':[3,10],'max_features':[2,3,4]}\n",
    "]\n",
    "\n",
    "forest_reg = RandomForestRegressor()\n",
    "grid_search = GridSearchCV(forest_reg,param_grid,cv = 5,\n",
    "                           scoring=\"neg_mean_squared_error\",\n",
    "                           return_train_score=True)\n",
    "grid_search.fit(housing_prepared,housing_labels)"
   ],
   "metadata": {
    "collapsed": false,
    "pycharm": {
     "name": "#%%\n"
    }
   }
  },
  {
   "cell_type": "code",
   "execution_count": 107,
   "outputs": [
    {
     "data": {
      "text/plain": "{'max_features': 6, 'n_estimators': 30}"
     },
     "execution_count": 107,
     "metadata": {},
     "output_type": "execute_result"
    }
   ],
   "source": [
    "grid_search.best_params_"
   ],
   "metadata": {
    "collapsed": false,
    "pycharm": {
     "name": "#%%\n"
    }
   }
  },
  {
   "cell_type": "code",
   "execution_count": 108,
   "outputs": [
    {
     "data": {
      "text/plain": "RandomForestRegressor(max_features=6, n_estimators=30)"
     },
     "execution_count": 108,
     "metadata": {},
     "output_type": "execute_result"
    }
   ],
   "source": [
    "grid_search.best_estimator_"
   ],
   "metadata": {
    "collapsed": false,
    "pycharm": {
     "name": "#%%\n"
    }
   }
  },
  {
   "cell_type": "code",
   "execution_count": 109,
   "outputs": [
    {
     "name": "stdout",
     "output_type": "stream",
     "text": [
      "63735.40365531066 {'max_features': 2, 'n_estimators': 3}\n",
      "55752.9540402592 {'max_features': 2, 'n_estimators': 10}\n",
      "53238.48880937571 {'max_features': 2, 'n_estimators': 30}\n",
      "61814.010691432886 {'max_features': 4, 'n_estimators': 3}\n",
      "53720.42677543225 {'max_features': 4, 'n_estimators': 10}\n",
      "51465.875880889194 {'max_features': 4, 'n_estimators': 30}\n",
      "60124.43292486328 {'max_features': 6, 'n_estimators': 3}\n",
      "52974.114448533204 {'max_features': 6, 'n_estimators': 10}\n",
      "50660.260402236185 {'max_features': 6, 'n_estimators': 30}\n",
      "59567.993433312826 {'max_features': 8, 'n_estimators': 3}\n",
      "52883.5744093446 {'max_features': 8, 'n_estimators': 10}\n",
      "50987.72478043902 {'max_features': 8, 'n_estimators': 30}\n",
      "62221.90846737412 {'bootstrap': False, 'max_features': 2, 'n_estimators': 3}\n",
      "54847.40110602887 {'bootstrap': False, 'max_features': 2, 'n_estimators': 10}\n",
      "60739.24599475075 {'bootstrap': False, 'max_features': 3, 'n_estimators': 3}\n",
      "53548.94125551338 {'bootstrap': False, 'max_features': 3, 'n_estimators': 10}\n",
      "59477.827888397995 {'bootstrap': False, 'max_features': 4, 'n_estimators': 3}\n",
      "52768.02470079385 {'bootstrap': False, 'max_features': 4, 'n_estimators': 10}\n"
     ]
    }
   ],
   "source": [
    "\"\"\"\n",
    "    get the evaluation scores\n",
    "\"\"\"\n",
    "cvres = grid_search.cv_results_\n",
    "for mean_scores,params in zip(cvres[\"mean_test_score\"],cvres[\"params\"]):\n",
    "    print(np.sqrt(-mean_scores),params)"
   ],
   "metadata": {
    "collapsed": false,
    "pycharm": {
     "name": "#%%\n"
    }
   }
  },
  {
   "cell_type": "code",
   "execution_count": 110,
   "outputs": [
    {
     "data": {
      "text/plain": "array([6.63190979e-02, 6.16741699e-02, 4.30346457e-02, 1.72700880e-02,\n       1.79965591e-02, 1.79405347e-02, 1.77115460e-02, 2.28320644e-01,\n       1.88573816e-01, 4.16138746e-02, 1.03669492e-01, 4.51167756e-02,\n       8.02635589e-03, 1.34485004e-01, 7.92720208e-05, 3.36847478e-03,\n       4.79964936e-03])"
     },
     "execution_count": 110,
     "metadata": {},
     "output_type": "execute_result"
    }
   ],
   "source": [
    "feature_importances = grid_search.best_estimator_.feature_importances_\n",
    "feature_importances\n"
   ],
   "metadata": {
    "collapsed": false,
    "pycharm": {
     "name": "#%%\n"
    }
   }
  },
  {
   "cell_type": "code",
   "execution_count": 111,
   "outputs": [
    {
     "data": {
      "text/plain": "[(0.2283206437090644, 'median_income'),\n (0.18857381623988892, 'income_cut'),\n (0.13448500407019517, 'INLAND'),\n (0.10366949249162648, 'pop_per_hhold'),\n (0.06631909785413752, 'longitude'),\n (0.061674169863025534, 'latitude'),\n (0.04511677561688839, 'bedrooms_per_room'),\n (0.04303464569688774, 'housing_median_age'),\n (0.04161387462185507, 'rooms_per_hhold'),\n (0.01799655908541546, 'total_bedrooms'),\n (0.017940534678461177, 'population'),\n (0.01771154604619338, 'households'),\n (0.01727008796859366, 'total_rooms'),\n (0.008026355893269995, '<1H OCEAN'),\n (0.004799649363382247, 'NEAR OCEAN'),\n (0.003368474780303928, 'NEAR BAY'),\n (7.927202081089456e-05, 'ISLAND')]"
     },
     "execution_count": 111,
     "metadata": {},
     "output_type": "execute_result"
    }
   ],
   "source": [
    "extra_atrribs = [\"rooms_per_hhold\",\"pop_per_hhold\",\"bedrooms_per_room\"]\n",
    "cat_encoder = full_pipeline.named_transformers_[\"cat\"]\n",
    "cat_one_hot_attribs = list(cat_encoder.categories_[0])\n",
    "attributes = num_attribs + extra_atrribs + cat_one_hot_attribs\n",
    "\n",
    "sorted(zip(feature_importances,attributes),reverse=True)"
   ],
   "metadata": {
    "collapsed": false,
    "pycharm": {
     "name": "#%%\n"
    }
   }
  },
  {
   "cell_type": "code",
   "execution_count": 114,
   "outputs": [
    {
     "data": {
      "text/plain": "48754.278609914836"
     },
     "execution_count": 114,
     "metadata": {},
     "output_type": "execute_result"
    }
   ],
   "source": [
    "final_model = grid_search.best_estimator_\n",
    "\n",
    "X_test = start_test_set.drop(\"median_house_value\",axis=1)\n",
    "y_test = start_test_set[\"median_house_value\"].copy()\n",
    "\n",
    "X_test_prepared = full_pipeline.transform(X_test)\n",
    "final_predictions = final_model.predict(X_test_prepared)\n",
    "\n",
    "final_mse = mean_squared_error(y_test,final_predictions)\n",
    "final_rmse = np.sqrt(final_mse) # evaluates to 47730.2\n",
    "final_rmse"
   ],
   "metadata": {
    "collapsed": false,
    "pycharm": {
     "name": "#%%\n"
    }
   }
  },
  {
   "cell_type": "code",
   "execution_count": 116,
   "outputs": [
    {
     "data": {
      "text/plain": "array([46757.41347254, 50672.51376145])"
     },
     "execution_count": 116,
     "metadata": {},
     "output_type": "execute_result"
    }
   ],
   "source": [
    "from scipy import stats\n",
    "confidence = 0.95\n",
    "squared_errors = (final_predictions - y_test)**2\n",
    "np.sqrt(stats.t.interval(confidence,len(squared_errors)-1,loc = squared_errors.mean(),scale = stats.sem(squared_errors)))"
   ],
   "metadata": {
    "collapsed": false,
    "pycharm": {
     "name": "#%%\n"
    }
   }
  },
  {
   "cell_type": "code",
   "execution_count": null,
   "outputs": [],
   "source": [],
   "metadata": {
    "collapsed": false,
    "pycharm": {
     "name": "#%%\n"
    }
   }
  }
 ],
 "metadata": {
  "kernelspec": {
   "display_name": "Python 3",
   "language": "python",
   "name": "python3"
  },
  "language_info": {
   "codemirror_mode": {
    "name": "ipython",
    "version": 2
   },
   "file_extension": ".py",
   "mimetype": "text/x-python",
   "name": "python",
   "nbconvert_exporter": "python",
   "pygments_lexer": "ipython2",
   "version": "2.7.6"
  }
 },
 "nbformat": 4,
 "nbformat_minor": 0
}
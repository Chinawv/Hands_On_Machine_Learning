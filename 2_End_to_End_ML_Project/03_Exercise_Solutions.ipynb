{
 "cells": [
  {
   "cell_type": "code",
   "execution_count": 1,
   "metadata": {
    "collapsed": true
   },
   "outputs": [],
   "source": [
    "import pandas as pd\n",
    "import numpy as np\n",
    "import os\n",
    "\n",
    "HOUSING_PATH = './'\n",
    "def load_housing_data(housing_path = HOUSING_PATH):\n",
    "    csv_path = os.path.join(housing_path,\"housing.csv\")\n",
    "    return pd.read_csv(csv_path)\n",
    "\n",
    "housing = load_housing_data()\n",
    "\n",
    "\"\"\"cut the median_income into five categories\"\"\"\n",
    "housing[\"income_cut\"] = pd.cut(housing[\"median_income\"],\n",
    "                               bins=[0.,1.5,3.0,4.5,6.,np.inf],\n",
    "                               labels=[1,2,3,4,5])\n",
    "\n"
   ]
  },
  {
   "cell_type": "code",
   "execution_count": 2,
   "outputs": [],
   "source": [
    "from sklearn.model_selection import StratifiedShuffleSplit\n",
    "\n",
    "split = StratifiedShuffleSplit(n_splits=1,test_size=0.2,random_state=42)\n",
    "for train_index,test_index in split.split(housing,housing[\"income_cut\"]):\n",
    "    start_train_set = housing.loc[train_index]\n",
    "    start_test_set = housing.loc[test_index]\n",
    "\n",
    "for set_ in (start_train_set,start_test_set):\n",
    "    set_.drop(\"income_cut\",axis = 1,inplace = True)"
   ],
   "metadata": {
    "collapsed": false,
    "pycharm": {
     "name": "#%%\n"
    }
   }
  },
  {
   "cell_type": "code",
   "execution_count": 3,
   "outputs": [
    {
     "name": "stdout",
     "output_type": "stream",
     "text": [
      "<class 'pandas.core.frame.DataFrame'>\n",
      "Int64Index: 16512 entries, 17606 to 15775\n",
      "Data columns (total 9 columns):\n",
      " #   Column              Non-Null Count  Dtype  \n",
      "---  ------              --------------  -----  \n",
      " 0   longitude           16512 non-null  float64\n",
      " 1   latitude            16512 non-null  float64\n",
      " 2   housing_median_age  16512 non-null  float64\n",
      " 3   total_rooms         16512 non-null  float64\n",
      " 4   total_bedrooms      16354 non-null  float64\n",
      " 5   population          16512 non-null  float64\n",
      " 6   households          16512 non-null  float64\n",
      " 7   median_income       16512 non-null  float64\n",
      " 8   ocean_proximity     16512 non-null  object \n",
      "dtypes: float64(8), object(1)\n",
      "memory usage: 1.3+ MB\n"
     ]
    }
   ],
   "source": [
    "housing = start_train_set.drop(\"median_house_value\",axis=1)\n",
    "housing_labels = start_train_set[\"median_house_value\"].copy()\n",
    "\n",
    "housing.info()"
   ],
   "metadata": {
    "collapsed": false,
    "pycharm": {
     "name": "#%%\n"
    }
   }
  },
  {
   "cell_type": "code",
   "execution_count": 4,
   "outputs": [
    {
     "data": {
      "text/plain": "array([[-1.15604281,  0.77194962,  0.74333089, ...,  0.        ,\n         0.        ,  0.        ],\n       [-1.17602483,  0.6596948 , -1.1653172 , ...,  0.        ,\n         0.        ,  0.        ],\n       [ 1.18684903, -1.34218285,  0.18664186, ...,  0.        ,\n         0.        ,  1.        ],\n       ...,\n       [ 1.58648943, -0.72478134, -1.56295222, ...,  0.        ,\n         0.        ,  0.        ],\n       [ 0.78221312, -0.85106801,  0.18664186, ...,  0.        ,\n         0.        ,  0.        ],\n       [-1.43579109,  0.99645926,  1.85670895, ...,  0.        ,\n         1.        ,  0.        ]])"
     },
     "execution_count": 4,
     "metadata": {},
     "output_type": "execute_result"
    }
   ],
   "source": [
    "from sklearn.base import BaseEstimator,TransformerMixin\n",
    "from sklearn.pipeline import Pipeline\n",
    "from sklearn.preprocessing import StandardScaler\n",
    "from sklearn.compose import ColumnTransformer\n",
    "from sklearn.impute import SimpleImputer\n",
    "from sklearn.preprocessing import OneHotEncoder\n",
    "\n",
    "housing_num = housing.drop(\"ocean_proximity\",axis = 1)\n",
    "num_attribs = list(housing_num)\n",
    "cat_attribs = [\"ocean_proximity\"]\n",
    "\n",
    "\n",
    "rooms_ix,bedrooms_ix,population_ix,households_ix = 3,4,5,6\n",
    "class CombinedAttributesAdder(BaseEstimator,TransformerMixin):\n",
    "    # no *args or ** kargs\n",
    "    def __init__(self,add_bedrooms_per_room = True):\n",
    "        self.add_bedrooms_per_room = add_bedrooms_per_room\n",
    "\n",
    "    def fit(self,X,y = None):\n",
    "        return self # nothing else to do\n",
    "\n",
    "    def transform(self,X,y = None):\n",
    "        rooms_per_household = X[:,rooms_ix]/X[:,households_ix]\n",
    "        population_per_household = X[:,population_ix]/X[:,households_ix]\n",
    "        if self.add_bedrooms_per_room:\n",
    "            bedrooms_per_room = X[:,bedrooms_ix]/X[:,rooms_ix]\n",
    "            return np.c_[X,rooms_per_household,population_per_household,bedrooms_per_room]\n",
    "        else:\n",
    "            return np.c_[X,rooms_per_household,population_per_household]\n",
    "\n",
    "num_pipeline = Pipeline([\n",
    "    ('imputer',SimpleImputer(strategy=\"median\")),\n",
    "    ('attribs_adder',CombinedAttributesAdder()),\n",
    "    ('std_scaler',StandardScaler()),\n",
    "])\n",
    "\n",
    "full_pipeline = ColumnTransformer([\n",
    "    (\"num\",num_pipeline,num_attribs),\n",
    "    (\"cat\",OneHotEncoder(),cat_attribs),\n",
    "])\n",
    "\n",
    "housing_prepared = full_pipeline.fit_transform(housing)\n",
    "housing_prepared"
   ],
   "metadata": {
    "collapsed": false,
    "pycharm": {
     "name": "#%%\n"
    }
   }
  },
  {
   "cell_type": "code",
   "execution_count": null,
   "outputs": [
    {
     "name": "stdout",
     "output_type": "stream",
     "text": [
      "Fitting 5 folds for each of 50 candidates, totalling 250 fits\n",
      "[CV] END ..............................C=10.0, kernel=linear; total time=   7.1s\n",
      "[CV] END ..............................C=10.0, kernel=linear; total time=   6.8s\n",
      "[CV] END ..............................C=10.0, kernel=linear; total time=   6.7s\n",
      "[CV] END ..............................C=10.0, kernel=linear; total time=   6.7s\n",
      "[CV] END ..............................C=10.0, kernel=linear; total time=   6.6s\n",
      "[CV] END ..............................C=30.0, kernel=linear; total time=   6.8s\n",
      "[CV] END ..............................C=30.0, kernel=linear; total time=   6.5s\n",
      "[CV] END ..............................C=30.0, kernel=linear; total time=   6.7s\n",
      "[CV] END ..............................C=30.0, kernel=linear; total time=   6.8s\n",
      "[CV] END ..............................C=30.0, kernel=linear; total time=   6.6s\n",
      "[CV] END .............................C=100.0, kernel=linear; total time=   6.6s\n",
      "[CV] END .............................C=100.0, kernel=linear; total time=   6.5s\n",
      "[CV] END .............................C=100.0, kernel=linear; total time=   6.6s\n",
      "[CV] END .............................C=100.0, kernel=linear; total time=   6.7s\n",
      "[CV] END .............................C=100.0, kernel=linear; total time=   6.6s\n",
      "[CV] END .............................C=300.0, kernel=linear; total time=   6.6s\n",
      "[CV] END .............................C=300.0, kernel=linear; total time=   6.7s\n",
      "[CV] END .............................C=300.0, kernel=linear; total time=   6.7s\n",
      "[CV] END .............................C=300.0, kernel=linear; total time=   7.6s\n",
      "[CV] END .............................C=300.0, kernel=linear; total time=   7.1s\n",
      "[CV] END ............................C=1000.0, kernel=linear; total time=   7.3s\n",
      "[CV] END ............................C=1000.0, kernel=linear; total time=   7.4s\n",
      "[CV] END ............................C=1000.0, kernel=linear; total time=   7.2s\n",
      "[CV] END ............................C=1000.0, kernel=linear; total time=   6.9s\n",
      "[CV] END ............................C=1000.0, kernel=linear; total time=   6.6s\n",
      "[CV] END ............................C=3000.0, kernel=linear; total time=   7.3s\n",
      "[CV] END ............................C=3000.0, kernel=linear; total time=   7.2s\n",
      "[CV] END ............................C=3000.0, kernel=linear; total time=   7.4s\n",
      "[CV] END ............................C=3000.0, kernel=linear; total time=   7.4s\n",
      "[CV] END ............................C=3000.0, kernel=linear; total time=   7.4s\n",
      "[CV] END ...........................C=10000.0, kernel=linear; total time=   9.6s\n",
      "[CV] END ...........................C=10000.0, kernel=linear; total time=   9.7s\n",
      "[CV] END ...........................C=10000.0, kernel=linear; total time=   9.6s\n",
      "[CV] END ...........................C=10000.0, kernel=linear; total time=   9.3s\n",
      "[CV] END ...........................C=10000.0, kernel=linear; total time=   9.3s\n",
      "[CV] END ...........................C=30000.0, kernel=linear; total time=  15.0s\n",
      "[CV] END ...........................C=30000.0, kernel=linear; total time=  13.6s\n",
      "[CV] END ...........................C=30000.0, kernel=linear; total time=  13.9s\n",
      "[CV] END ...........................C=30000.0, kernel=linear; total time=  14.7s\n",
      "[CV] END ...........................C=30000.0, kernel=linear; total time=  12.1s\n",
      "[CV] END ......................C=1.0, gamma=0.01, kernel=rbf; total time=  13.1s\n",
      "[CV] END ......................C=1.0, gamma=0.01, kernel=rbf; total time=  13.2s\n",
      "[CV] END ......................C=1.0, gamma=0.01, kernel=rbf; total time=  13.1s\n",
      "[CV] END ......................C=1.0, gamma=0.01, kernel=rbf; total time=  13.2s\n",
      "[CV] END ......................C=1.0, gamma=0.01, kernel=rbf; total time=  13.2s\n",
      "[CV] END ......................C=1.0, gamma=0.03, kernel=rbf; total time=  13.0s\n",
      "[CV] END ......................C=1.0, gamma=0.03, kernel=rbf; total time=  13.2s\n",
      "[CV] END ......................C=1.0, gamma=0.03, kernel=rbf; total time=  13.0s\n",
      "[CV] END ......................C=1.0, gamma=0.03, kernel=rbf; total time=  13.1s\n",
      "[CV] END ......................C=1.0, gamma=0.03, kernel=rbf; total time=  12.9s\n",
      "[CV] END .......................C=1.0, gamma=0.1, kernel=rbf; total time=  12.8s\n",
      "[CV] END .......................C=1.0, gamma=0.1, kernel=rbf; total time=  12.7s\n",
      "[CV] END .......................C=1.0, gamma=0.1, kernel=rbf; total time=  13.6s\n",
      "[CV] END .......................C=1.0, gamma=0.1, kernel=rbf; total time=  13.5s\n",
      "[CV] END .......................C=1.0, gamma=0.1, kernel=rbf; total time=  13.5s\n",
      "[CV] END .......................C=1.0, gamma=0.3, kernel=rbf; total time=  13.5s\n",
      "[CV] END .......................C=1.0, gamma=0.3, kernel=rbf; total time=  13.4s\n",
      "[CV] END .......................C=1.0, gamma=0.3, kernel=rbf; total time=  13.5s\n",
      "[CV] END .......................C=1.0, gamma=0.3, kernel=rbf; total time=  13.5s\n",
      "[CV] END .......................C=1.0, gamma=0.3, kernel=rbf; total time=  12.8s\n",
      "[CV] END .......................C=1.0, gamma=1.0, kernel=rbf; total time=  12.1s\n",
      "[CV] END .......................C=1.0, gamma=1.0, kernel=rbf; total time=  12.4s\n",
      "[CV] END .......................C=1.0, gamma=1.0, kernel=rbf; total time=  12.4s\n",
      "[CV] END .......................C=1.0, gamma=1.0, kernel=rbf; total time=  12.4s\n",
      "[CV] END .......................C=1.0, gamma=1.0, kernel=rbf; total time=  12.6s\n",
      "[CV] END .......................C=1.0, gamma=3.0, kernel=rbf; total time=  13.2s\n",
      "[CV] END .......................C=1.0, gamma=3.0, kernel=rbf; total time=  14.0s\n",
      "[CV] END .......................C=1.0, gamma=3.0, kernel=rbf; total time=  14.6s\n",
      "[CV] END .......................C=1.0, gamma=3.0, kernel=rbf; total time=  14.3s\n",
      "[CV] END .......................C=1.0, gamma=3.0, kernel=rbf; total time=  13.1s\n",
      "[CV] END ......................C=3.0, gamma=0.01, kernel=rbf; total time=  13.0s\n",
      "[CV] END ......................C=3.0, gamma=0.01, kernel=rbf; total time=  13.1s\n",
      "[CV] END ......................C=3.0, gamma=0.01, kernel=rbf; total time=  13.1s\n",
      "[CV] END ......................C=3.0, gamma=0.01, kernel=rbf; total time=  13.0s\n",
      "[CV] END ......................C=3.0, gamma=0.01, kernel=rbf; total time=  13.2s\n",
      "[CV] END ......................C=3.0, gamma=0.03, kernel=rbf; total time=  13.0s\n",
      "[CV] END ......................C=3.0, gamma=0.03, kernel=rbf; total time=  13.0s\n",
      "[CV] END ......................C=3.0, gamma=0.03, kernel=rbf; total time=  13.5s\n",
      "[CV] END ......................C=3.0, gamma=0.03, kernel=rbf; total time=  13.2s\n",
      "[CV] END ......................C=3.0, gamma=0.03, kernel=rbf; total time=  13.7s\n",
      "[CV] END .......................C=3.0, gamma=0.1, kernel=rbf; total time=  13.0s\n",
      "[CV] END .......................C=3.0, gamma=0.1, kernel=rbf; total time=  12.9s\n",
      "[CV] END .......................C=3.0, gamma=0.1, kernel=rbf; total time=  12.8s\n",
      "[CV] END .......................C=3.0, gamma=0.1, kernel=rbf; total time=  13.4s\n",
      "[CV] END .......................C=3.0, gamma=0.1, kernel=rbf; total time=  13.3s\n",
      "[CV] END .......................C=3.0, gamma=0.3, kernel=rbf; total time=  12.9s\n",
      "[CV] END .......................C=3.0, gamma=0.3, kernel=rbf; total time=  12.8s\n",
      "[CV] END .......................C=3.0, gamma=0.3, kernel=rbf; total time=  12.7s\n",
      "[CV] END .......................C=3.0, gamma=0.3, kernel=rbf; total time=  12.7s\n",
      "[CV] END .......................C=3.0, gamma=0.3, kernel=rbf; total time=  12.5s\n",
      "[CV] END .......................C=3.0, gamma=1.0, kernel=rbf; total time=  12.4s\n",
      "[CV] END .......................C=3.0, gamma=1.0, kernel=rbf; total time=  12.7s\n",
      "[CV] END .......................C=3.0, gamma=1.0, kernel=rbf; total time=  12.8s\n",
      "[CV] END .......................C=3.0, gamma=1.0, kernel=rbf; total time=  13.0s\n"
     ]
    }
   ],
   "source": [
    "\"\"\"\n",
    "    1.Question:\n",
    "    Try a Support Vector Machine regressor (sklearn.svm.SVR), with various hyperparameters such as kernel=\"linear\" (with various values for the C hyperparameter) or kernel=\"rbf\" (with various values for the C and gamma hyperparameters).\n",
    "    Don't worry about what these hyperparameters mean for now.\n",
    "    How does the best SVR predictor perform?\n",
    "\"\"\"\n",
    "from sklearn.svm import SVR\n",
    "from sklearn.model_selection import GridSearchCV\n",
    "param_grid = [\n",
    "    {'kernel':['linear'],'C': [10., 30., 100., 300., 1000., 3000., 10000., 30000.0]},\n",
    "    {'kernel':['rbf'],'C': [1.0, 3.0, 10., 30., 100., 300., 1000.0],\n",
    "     'gamma': [0.01, 0.03, 0.1, 0.3, 1.0, 3.0]},\n",
    "]\n",
    "\n",
    "svm_reg = SVR()\n",
    "grid_search = GridSearchCV(svm_reg, param_grid, cv=5, scoring='neg_mean_squared_error', verbose=2)\n",
    "grid_search.fit(housing_prepared,housing_labels)"
   ],
   "metadata": {
    "collapsed": false,
    "pycharm": {
     "name": "#%%\n",
     "is_executing": true
    }
   }
  },
  {
   "cell_type": "code",
   "execution_count": null,
   "outputs": [],
   "source": [
    "negtive_mse = grid_search.best_score_\n",
    "rmse = np.sqrt(-negtive_mse)\n",
    "rmse"
   ],
   "metadata": {
    "collapsed": false,
    "pycharm": {
     "name": "#%%\n",
     "is_executing": true
    }
   }
  },
  {
   "cell_type": "code",
   "execution_count": null,
   "outputs": [],
   "source": [
    "grid_search.best_params_"
   ],
   "metadata": {
    "collapsed": false,
    "pycharm": {
     "name": "#%%\n",
     "is_executing": true
    }
   }
  },
  {
   "cell_type": "code",
   "execution_count": null,
   "outputs": [],
   "source": [
    "\"\"\"\n",
    "    2.Question:\n",
    "    Try replacing GridSearchCV with RandomizedSearchCV.\n",
    "\"\"\"\n",
    "from sklearn.model_selection import RandomizedSearchCV\n",
    "from scipy.stats import expon,reciprocal\n",
    "param_distribs = {\n",
    "    'kernel':['linear','rbf'],\n",
    "    'C':reciprocal(20,200000),\n",
    "    'gamma':expon(scale = 1.0),\n",
    "}\n",
    "\n",
    "svm_reg = SVR()\n",
    "rnd_search = RandomizedSearchCV(svm_reg, param_distributions=param_distribs,\n",
    "                                n_iter=50, cv=5, scoring='neg_mean_squared_error',\n",
    "                                verbose=2, random_state=42)\n",
    "rnd_search.fit(housing_prepared, housing_labels)"
   ],
   "metadata": {
    "collapsed": false,
    "pycharm": {
     "name": "#%%\n",
     "is_executing": true
    }
   }
  },
  {
   "cell_type": "code",
   "execution_count": null,
   "outputs": [],
   "source": [
    "negative_mse = rnd_search.best_score_\n",
    "rmse = np.sqrt(-negative_mse)\n",
    "rmse"
   ],
   "metadata": {
    "collapsed": false,
    "pycharm": {
     "name": "#%%\n",
     "is_executing": true
    }
   }
  },
  {
   "cell_type": "code",
   "execution_count": null,
   "outputs": [],
   "source": [
    "rnd_search.best_params_"
   ],
   "metadata": {
    "collapsed": false,
    "pycharm": {
     "name": "#%%\n",
     "is_executing": true
    }
   }
  },
  {
   "cell_type": "code",
   "execution_count": null,
   "outputs": [],
   "source": [],
   "metadata": {
    "collapsed": false,
    "pycharm": {
     "name": "#%%\n"
    }
   }
  }
 ],
 "metadata": {
  "kernelspec": {
   "display_name": "Python 3",
   "language": "python",
   "name": "python3"
  },
  "language_info": {
   "codemirror_mode": {
    "name": "ipython",
    "version": 2
   },
   "file_extension": ".py",
   "mimetype": "text/x-python",
   "name": "python",
   "nbconvert_exporter": "python",
   "pygments_lexer": "ipython2",
   "version": "2.7.6"
  }
 },
 "nbformat": 4,
 "nbformat_minor": 0
}
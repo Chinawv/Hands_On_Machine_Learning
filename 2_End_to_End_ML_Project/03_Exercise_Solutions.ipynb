{
 "cells": [
  {
   "cell_type": "code",
   "execution_count": 1,
   "metadata": {
    "collapsed": true
   },
   "outputs": [],
   "source": [
    "import pandas as pd\n",
    "import numpy as np\n",
    "import os\n",
    "\n",
    "HOUSING_PATH = './'\n",
    "def load_housing_data(housing_path = HOUSING_PATH):\n",
    "    csv_path = os.path.join(housing_path,\"housing.csv\")\n",
    "    return pd.read_csv(csv_path)\n",
    "\n",
    "housing = load_housing_data()\n",
    "\n",
    "\"\"\"cut the median_income into five categories\"\"\"\n",
    "housing[\"income_cut\"] = pd.cut(housing[\"median_income\"],\n",
    "                               bins=[0.,1.5,3.0,4.5,6.,np.inf],\n",
    "                               labels=[1,2,3,4,5])\n",
    "\n"
   ]
  },
  {
   "cell_type": "code",
   "execution_count": 3,
   "outputs": [],
   "source": [
    "from sklearn.model_selection import StratifiedShuffleSplit\n",
    "\n",
    "split = StratifiedShuffleSplit(n_splits=1,test_size=0.2,random_state=42)\n",
    "for train_index,test_index in split.split(housing,housing[\"income_cut\"]):\n",
    "    start_train_set = housing.loc[train_index]\n",
    "    start_test_set = housing.loc[test_index]\n",
    "\n",
    "for set_ in (start_train_set,start_test_set):\n",
    "    set_.drop(\"income_cut\",axis = 1,inplace = True)"
   ],
   "metadata": {
    "collapsed": false,
    "pycharm": {
     "name": "#%%\n"
    }
   }
  },
  {
   "cell_type": "code",
   "execution_count": 5,
   "outputs": [
    {
     "name": "stdout",
     "output_type": "stream",
     "text": [
      "<class 'pandas.core.frame.DataFrame'>\n",
      "Int64Index: 16512 entries, 17606 to 15775\n",
      "Data columns (total 9 columns):\n",
      " #   Column              Non-Null Count  Dtype  \n",
      "---  ------              --------------  -----  \n",
      " 0   longitude           16512 non-null  float64\n",
      " 1   latitude            16512 non-null  float64\n",
      " 2   housing_median_age  16512 non-null  float64\n",
      " 3   total_rooms         16512 non-null  float64\n",
      " 4   total_bedrooms      16354 non-null  float64\n",
      " 5   population          16512 non-null  float64\n",
      " 6   households          16512 non-null  float64\n",
      " 7   median_income       16512 non-null  float64\n",
      " 8   ocean_proximity     16512 non-null  object \n",
      "dtypes: float64(8), object(1)\n",
      "memory usage: 1.3+ MB\n"
     ]
    }
   ],
   "source": [
    "housing = start_train_set.drop(\"median_house_value\",axis=1)\n",
    "housing_labels = start_train_set[\"median_house_value\"].copy()\n",
    "\n",
    "housing.info()"
   ],
   "metadata": {
    "collapsed": false,
    "pycharm": {
     "name": "#%%\n"
    }
   }
  },
  {
   "cell_type": "code",
   "execution_count": 6,
   "outputs": [
    {
     "data": {
      "text/plain": "array([[-1.15604281,  0.77194962,  0.74333089, ...,  0.        ,\n         0.        ,  0.        ],\n       [-1.17602483,  0.6596948 , -1.1653172 , ...,  0.        ,\n         0.        ,  0.        ],\n       [ 1.18684903, -1.34218285,  0.18664186, ...,  0.        ,\n         0.        ,  1.        ],\n       ...,\n       [ 1.58648943, -0.72478134, -1.56295222, ...,  0.        ,\n         0.        ,  0.        ],\n       [ 0.78221312, -0.85106801,  0.18664186, ...,  0.        ,\n         0.        ,  0.        ],\n       [-1.43579109,  0.99645926,  1.85670895, ...,  0.        ,\n         1.        ,  0.        ]])"
     },
     "execution_count": 6,
     "metadata": {},
     "output_type": "execute_result"
    }
   ],
   "source": [
    "from sklearn.base import BaseEstimator,TransformerMixin\n",
    "from sklearn.pipeline import Pipeline\n",
    "from sklearn.preprocessing import StandardScaler\n",
    "from sklearn.compose import ColumnTransformer\n",
    "from sklearn.impute import SimpleImputer\n",
    "from sklearn.preprocessing import OneHotEncoder\n",
    "\n",
    "housing_num = housing.drop(\"ocean_proximity\",axis = 1)\n",
    "num_attribs = list(housing_num)\n",
    "cat_attribs = [\"ocean_proximity\"]\n",
    "\n",
    "\n",
    "rooms_ix,bedrooms_ix,population_ix,households_ix = 3,4,5,6\n",
    "class CombinedAttributesAdder(BaseEstimator,TransformerMixin):\n",
    "    # no *args or ** kargs\n",
    "    def __init__(self,add_bedrooms_per_room = True):\n",
    "        self.add_bedrooms_per_room = add_bedrooms_per_room\n",
    "\n",
    "    def fit(self,X,y = None):\n",
    "        return self # nothing else to do\n",
    "\n",
    "    def transform(self,X,y = None):\n",
    "        rooms_per_household = X[:,rooms_ix]/X[:,households_ix]\n",
    "        population_per_household = X[:,population_ix]/X[:,households_ix]\n",
    "        if self.add_bedrooms_per_room:\n",
    "            bedrooms_per_room = X[:,bedrooms_ix]/X[:,rooms_ix]\n",
    "            return np.c_[X,rooms_per_household,population_per_household,bedrooms_per_room]\n",
    "        else:\n",
    "            return np.c_[X,rooms_per_household,population_per_household]\n",
    "\n",
    "num_pipeline = Pipeline([\n",
    "    ('imputer',SimpleImputer(strategy=\"median\")),\n",
    "    ('attribs_adder',CombinedAttributesAdder()),\n",
    "    ('std_scaler',StandardScaler()),\n",
    "])\n",
    "\n",
    "full_pipeline = ColumnTransformer([\n",
    "    (\"num\",num_pipeline,num_attribs),\n",
    "    (\"cat\",OneHotEncoder(),cat_attribs),\n",
    "])\n",
    "\n",
    "housing_prepared = full_pipeline.fit_transform(housing)\n",
    "housing_prepared"
   ],
   "metadata": {
    "collapsed": false,
    "pycharm": {
     "name": "#%%\n"
    }
   }
  },
  {
   "cell_type": "code",
   "execution_count": null,
   "outputs": [],
   "source": [],
   "metadata": {
    "collapsed": false,
    "pycharm": {
     "name": "#%%\n"
    }
   }
  }
 ],
 "metadata": {
  "kernelspec": {
   "display_name": "Python 3",
   "language": "python",
   "name": "python3"
  },
  "language_info": {
   "codemirror_mode": {
    "name": "ipython",
    "version": 2
   },
   "file_extension": ".py",
   "mimetype": "text/x-python",
   "name": "python",
   "nbconvert_exporter": "python",
   "pygments_lexer": "ipython2",
   "version": "2.7.6"
  }
 },
 "nbformat": 4,
 "nbformat_minor": 0
}